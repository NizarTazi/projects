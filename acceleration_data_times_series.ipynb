{
  "nbformat": 4,
  "nbformat_minor": 0,
  "metadata": {
    "colab": {
      "provenance": [],
      "toc_visible": true
    },
    "kernelspec": {
      "name": "python3",
      "display_name": "Python 3"
    },
    "language_info": {
      "name": "python"
    }
  },
  "cells": [
    {
      "cell_type": "markdown",
      "source": [
        "# Preparation des données"
      ],
      "metadata": {
        "id": "oyvuBy7Xko9L"
      }
    },
    {
      "cell_type": "code",
      "execution_count": null,
      "metadata": {
        "colab": {
          "base_uri": "https://localhost:8080/"
        },
        "id": "XRPCl-32i-1u",
        "outputId": "59f549d2-e9ff-4f21-a4f7-aae55e340d43"
      },
      "outputs": [
        {
          "output_type": "stream",
          "name": "stderr",
          "text": [
            "/usr/local/lib/python3.7/dist-packages/sklearn/utils/linear_assignment_.py:22: FutureWarning:\n",
            "\n",
            "The linear_assignment_ module is deprecated in 0.21 and will be removed from 0.23. Use scipy.optimize.linear_sum_assignment instead.\n",
            "\n",
            " /usr/local/lib/python3.7/dist-packages/numba/np/ufunc/parallel.py:363: NumbaWarning:The TBB threading layer requires TBB version 2019.5 or later i.e., TBB_INTERFACE_VERSION >= 11005. Found TBB_INTERFACE_VERSION = 9107. The TBB threading layer is disabled.\n"
          ]
        }
      ],
      "source": [
        "import pandas as pd\n",
        "import numpy as np\n",
        "from sklearn.cluster import KMeans\n",
        "from sklearn.cluster import SpectralClustering\n",
        "from tslearn.clustering import TimeSeriesKMeans\n",
        "from sklearn.cluster import AgglomerativeClustering\n",
        "from coclust.evaluation.external import accuracy\n",
        "from sklearn.metrics import normalized_mutual_info_score as nmi\n",
        "from sklearn.metrics import adjusted_rand_score as ari\n",
        "from sklearn.metrics import pairwise_distances\n",
        "from skfda.preprocessing.dim_reduction.feature_extraction import FPCA\n",
        "from skfda.representation.basis import BSpline, Fourier, FDataBasis, Monomial\n",
        "from dtaidistance import dtw\n",
        "from scipy import fft\n",
        "from sklearn.preprocessing import PolynomialFeatures\n",
        "from plotly.subplots import make_subplots\n",
        "import plotly.graph_objects as go\n",
        "from sklearn.decomposition import PCA\n",
        "import matplotlib.pyplot as plt"
      ]
    },
    {
      "cell_type": "code",
      "source": [
        "import numpy as np\n",
        "import pandas as pd\n",
        "from scipy.signal import find_peaks\n",
        "from scipy import stats\n",
        "import matplotlib.pyplot as plt\n",
        "import seaborn as sns\n",
        "import plotly.express as px\n",
        "from sklearn.decomposition import PCA\n",
        "from sklearn.cluster import KMeans\n",
        "from sklearn.metrics.cluster import adjusted_rand_score\n",
        "from sklearn.metrics.cluster import normalized_mutual_info_score\n",
        "from sklearn.cluster import AgglomerativeClustering\n",
        "import rpy2.robjects.numpy2ri\n",
        "from rpy2.robjects.packages import importr\n",
        "#from sklearn_extra.cluster import KMedoids\n",
        "from sklearn.cluster import SpectralClustering\n",
        "from sklearn.mixture import GaussianMixture as mix\n",
        "from sklearn.metrics.cluster import adjusted_rand_score\n",
        "from sklearn.metrics.cluster import normalized_mutual_info_score\n"
      ],
      "metadata": {
        "id": "n5zFL_KMni94"
      },
      "execution_count": null,
      "outputs": []
    },
    {
      "cell_type": "code",
      "source": [
        "utils=importr('utils')\n",
        "utils.install_packages(\"FCPS\")\n",
        "rpy2.robjects.numpy2ri.activate()\n",
        "fcps = importr(\"FCPS\")"
      ],
      "metadata": {
        "colab": {
          "base_uri": "https://localhost:8080/"
        },
        "id": "k-HX9H-QmMC8",
        "outputId": "01d96407-c985-4e67-d424-736fa1e8e448"
      },
      "execution_count": null,
      "outputs": [
        {
          "output_type": "stream",
          "name": "stderr",
          "text": [
            "R[write to console]: Installing package into ‘/usr/local/lib/R/site-library’\n",
            "(as ‘lib’ is unspecified)\n",
            "\n",
            "R[write to console]: also installing the dependencies ‘plyr’, ‘sp’, ‘pracma’, ‘reshape2’, ‘RcppArmadillo’, ‘mclust’, ‘DataVisualizations’\n",
            "\n",
            "\n",
            "R[write to console]: trying URL 'https://cran.rstudio.com/src/contrib/plyr_1.8.6.tar.gz'\n",
            "\n",
            "R[write to console]: Content type 'application/x-gzip'\n",
            "R[write to console]:  length 401191 bytes (391 KB)\n",
            "\n",
            "R[write to console]: =\n",
            "R[write to console]: =\n",
            "R[write to console]: =\n",
            "R[write to console]: =\n",
            "R[write to console]: =\n",
            "R[write to console]: =\n",
            "R[write to console]: =\n",
            "R[write to console]: =\n",
            "R[write to console]: =\n",
            "R[write to console]: =\n",
            "R[write to console]: =\n",
            "R[write to console]: =\n",
            "R[write to console]: =\n",
            "R[write to console]: =\n",
            "R[write to console]: =\n",
            "R[write to console]: =\n",
            "R[write to console]: =\n",
            "R[write to console]: =\n",
            "R[write to console]: =\n",
            "R[write to console]: =\n",
            "R[write to console]: =\n",
            "R[write to console]: =\n",
            "R[write to console]: =\n",
            "R[write to console]: =\n",
            "R[write to console]: =\n",
            "R[write to console]: =\n",
            "R[write to console]: =\n",
            "R[write to console]: =\n",
            "R[write to console]: =\n",
            "R[write to console]: =\n",
            "R[write to console]: =\n",
            "R[write to console]: =\n",
            "R[write to console]: =\n",
            "R[write to console]: =\n",
            "R[write to console]: =\n",
            "R[write to console]: =\n",
            "R[write to console]: =\n",
            "R[write to console]: =\n",
            "R[write to console]: =\n",
            "R[write to console]: =\n",
            "R[write to console]: =\n",
            "R[write to console]: =\n",
            "R[write to console]: =\n",
            "R[write to console]: =\n",
            "R[write to console]: =\n",
            "R[write to console]: =\n",
            "R[write to console]: =\n",
            "R[write to console]: =\n",
            "R[write to console]: =\n",
            "R[write to console]: =\n",
            "R[write to console]: \n",
            "\n",
            "R[write to console]: downloaded 391 KB\n",
            "\n",
            "\n",
            "R[write to console]: trying URL 'https://cran.rstudio.com/src/contrib/sp_1.4-6.tar.gz'\n",
            "\n",
            "R[write to console]: Content type 'application/x-gzip'\n",
            "R[write to console]:  length 1423843 bytes (1.4 MB)\n",
            "\n",
            "R[write to console]: =\n",
            "R[write to console]: =\n",
            "R[write to console]: =\n",
            "R[write to console]: =\n",
            "R[write to console]: =\n",
            "R[write to console]: =\n",
            "R[write to console]: =\n",
            "R[write to console]: =\n",
            "R[write to console]: =\n",
            "R[write to console]: =\n",
            "R[write to console]: =\n",
            "R[write to console]: =\n",
            "R[write to console]: =\n",
            "R[write to console]: =\n",
            "R[write to console]: =\n",
            "R[write to console]: =\n",
            "R[write to console]: =\n",
            "R[write to console]: =\n",
            "R[write to console]: =\n",
            "R[write to console]: =\n",
            "R[write to console]: =\n",
            "R[write to console]: =\n",
            "R[write to console]: =\n",
            "R[write to console]: =\n",
            "R[write to console]: =\n",
            "R[write to console]: =\n",
            "R[write to console]: =\n",
            "R[write to console]: =\n",
            "R[write to console]: =\n",
            "R[write to console]: =\n",
            "R[write to console]: =\n",
            "R[write to console]: =\n",
            "R[write to console]: =\n",
            "R[write to console]: =\n",
            "R[write to console]: =\n",
            "R[write to console]: =\n",
            "R[write to console]: =\n",
            "R[write to console]: =\n",
            "R[write to console]: =\n",
            "R[write to console]: =\n",
            "R[write to console]: =\n",
            "R[write to console]: =\n",
            "R[write to console]: =\n",
            "R[write to console]: =\n",
            "R[write to console]: =\n",
            "R[write to console]: =\n",
            "R[write to console]: =\n",
            "R[write to console]: =\n",
            "R[write to console]: =\n",
            "R[write to console]: =\n",
            "R[write to console]: \n",
            "\n",
            "R[write to console]: downloaded 1.4 MB\n",
            "\n",
            "\n",
            "R[write to console]: trying URL 'https://cran.rstudio.com/src/contrib/pracma_2.3.6.tar.gz'\n",
            "\n",
            "R[write to console]: Content type 'application/x-gzip'\n",
            "R[write to console]:  length 397035 bytes (387 KB)\n",
            "\n",
            "R[write to console]: =\n",
            "R[write to console]: =\n",
            "R[write to console]: =\n",
            "R[write to console]: =\n",
            "R[write to console]: =\n",
            "R[write to console]: =\n",
            "R[write to console]: =\n",
            "R[write to console]: =\n",
            "R[write to console]: =\n",
            "R[write to console]: =\n",
            "R[write to console]: =\n",
            "R[write to console]: =\n",
            "R[write to console]: =\n",
            "R[write to console]: =\n",
            "R[write to console]: =\n",
            "R[write to console]: =\n",
            "R[write to console]: =\n",
            "R[write to console]: =\n",
            "R[write to console]: =\n",
            "R[write to console]: =\n",
            "R[write to console]: =\n",
            "R[write to console]: =\n",
            "R[write to console]: =\n",
            "R[write to console]: =\n",
            "R[write to console]: =\n",
            "R[write to console]: =\n",
            "R[write to console]: =\n",
            "R[write to console]: =\n",
            "R[write to console]: =\n",
            "R[write to console]: =\n",
            "R[write to console]: =\n",
            "R[write to console]: =\n",
            "R[write to console]: =\n",
            "R[write to console]: =\n",
            "R[write to console]: =\n",
            "R[write to console]: =\n",
            "R[write to console]: =\n",
            "R[write to console]: =\n",
            "R[write to console]: =\n",
            "R[write to console]: =\n",
            "R[write to console]: =\n",
            "R[write to console]: =\n",
            "R[write to console]: =\n",
            "R[write to console]: =\n",
            "R[write to console]: =\n",
            "R[write to console]: =\n",
            "R[write to console]: =\n",
            "R[write to console]: =\n",
            "R[write to console]: =\n",
            "R[write to console]: =\n",
            "R[write to console]: \n",
            "\n",
            "R[write to console]: downloaded 387 KB\n",
            "\n",
            "\n",
            "R[write to console]: trying URL 'https://cran.rstudio.com/src/contrib/reshape2_1.4.4.tar.gz'\n",
            "\n",
            "R[write to console]: Content type 'application/x-gzip'\n",
            "R[write to console]:  length 37307 bytes (36 KB)\n",
            "\n",
            "R[write to console]: =\n",
            "R[write to console]: =\n",
            "R[write to console]: =\n",
            "R[write to console]: =\n",
            "R[write to console]: =\n",
            "R[write to console]: =\n",
            "R[write to console]: =\n",
            "R[write to console]: =\n",
            "R[write to console]: =\n",
            "R[write to console]: =\n",
            "R[write to console]: =\n",
            "R[write to console]: =\n",
            "R[write to console]: =\n",
            "R[write to console]: =\n",
            "R[write to console]: =\n",
            "R[write to console]: =\n",
            "R[write to console]: =\n",
            "R[write to console]: =\n",
            "R[write to console]: =\n",
            "R[write to console]: =\n",
            "R[write to console]: =\n",
            "R[write to console]: =\n",
            "R[write to console]: =\n",
            "R[write to console]: =\n",
            "R[write to console]: =\n",
            "R[write to console]: =\n",
            "R[write to console]: =\n",
            "R[write to console]: =\n",
            "R[write to console]: =\n",
            "R[write to console]: =\n",
            "R[write to console]: =\n",
            "R[write to console]: =\n",
            "R[write to console]: =\n",
            "R[write to console]: =\n",
            "R[write to console]: =\n",
            "R[write to console]: =\n",
            "R[write to console]: =\n",
            "R[write to console]: =\n",
            "R[write to console]: =\n",
            "R[write to console]: =\n",
            "R[write to console]: =\n",
            "R[write to console]: =\n",
            "R[write to console]: =\n",
            "R[write to console]: =\n",
            "R[write to console]: =\n",
            "R[write to console]: =\n",
            "R[write to console]: =\n",
            "R[write to console]: =\n",
            "R[write to console]: =\n",
            "R[write to console]: =\n",
            "R[write to console]: \n",
            "\n",
            "R[write to console]: downloaded 36 KB\n",
            "\n",
            "\n",
            "R[write to console]: trying URL 'https://cran.rstudio.com/src/contrib/RcppArmadillo_0.10.7.3.0.tar.gz'\n",
            "\n",
            "R[write to console]: Content type 'application/x-gzip'\n",
            "R[write to console]:  length 1360186 bytes (1.3 MB)\n",
            "\n",
            "R[write to console]: =\n",
            "R[write to console]: =\n",
            "R[write to console]: =\n",
            "R[write to console]: =\n",
            "R[write to console]: =\n",
            "R[write to console]: =\n",
            "R[write to console]: =\n",
            "R[write to console]: =\n",
            "R[write to console]: =\n",
            "R[write to console]: =\n",
            "R[write to console]: =\n",
            "R[write to console]: =\n",
            "R[write to console]: =\n",
            "R[write to console]: =\n",
            "R[write to console]: =\n",
            "R[write to console]: =\n",
            "R[write to console]: =\n",
            "R[write to console]: =\n",
            "R[write to console]: =\n",
            "R[write to console]: =\n",
            "R[write to console]: =\n",
            "R[write to console]: =\n",
            "R[write to console]: =\n",
            "R[write to console]: =\n",
            "R[write to console]: =\n",
            "R[write to console]: =\n",
            "R[write to console]: =\n",
            "R[write to console]: =\n",
            "R[write to console]: =\n",
            "R[write to console]: =\n",
            "R[write to console]: =\n",
            "R[write to console]: =\n",
            "R[write to console]: =\n",
            "R[write to console]: =\n",
            "R[write to console]: =\n",
            "R[write to console]: =\n",
            "R[write to console]: =\n",
            "R[write to console]: =\n",
            "R[write to console]: =\n",
            "R[write to console]: =\n",
            "R[write to console]: =\n",
            "R[write to console]: =\n",
            "R[write to console]: =\n",
            "R[write to console]: =\n",
            "R[write to console]: =\n",
            "R[write to console]: =\n",
            "R[write to console]: =\n",
            "R[write to console]: =\n",
            "R[write to console]: =\n",
            "R[write to console]: =\n",
            "R[write to console]: \n",
            "\n",
            "R[write to console]: downloaded 1.3 MB\n",
            "\n",
            "\n",
            "R[write to console]: trying URL 'https://cran.rstudio.com/src/contrib/mclust_5.4.8.tar.gz'\n",
            "\n",
            "R[write to console]: Content type 'application/x-gzip'\n",
            "R[write to console]:  length 2742337 bytes (2.6 MB)\n",
            "\n",
            "R[write to console]: =\n",
            "R[write to console]: =\n",
            "R[write to console]: =\n",
            "R[write to console]: =\n",
            "R[write to console]: =\n",
            "R[write to console]: =\n",
            "R[write to console]: =\n",
            "R[write to console]: =\n",
            "R[write to console]: =\n",
            "R[write to console]: =\n",
            "R[write to console]: =\n",
            "R[write to console]: =\n",
            "R[write to console]: =\n",
            "R[write to console]: =\n",
            "R[write to console]: =\n",
            "R[write to console]: =\n",
            "R[write to console]: =\n",
            "R[write to console]: =\n",
            "R[write to console]: =\n",
            "R[write to console]: =\n",
            "R[write to console]: =\n",
            "R[write to console]: =\n",
            "R[write to console]: =\n",
            "R[write to console]: =\n",
            "R[write to console]: =\n",
            "R[write to console]: =\n",
            "R[write to console]: =\n",
            "R[write to console]: =\n",
            "R[write to console]: =\n",
            "R[write to console]: =\n",
            "R[write to console]: =\n",
            "R[write to console]: =\n",
            "R[write to console]: =\n",
            "R[write to console]: =\n",
            "R[write to console]: =\n",
            "R[write to console]: =\n",
            "R[write to console]: =\n",
            "R[write to console]: =\n",
            "R[write to console]: =\n",
            "R[write to console]: =\n",
            "R[write to console]: =\n",
            "R[write to console]: =\n",
            "R[write to console]: =\n",
            "R[write to console]: =\n",
            "R[write to console]: =\n",
            "R[write to console]: =\n",
            "R[write to console]: =\n",
            "R[write to console]: =\n",
            "R[write to console]: =\n",
            "R[write to console]: =\n",
            "R[write to console]: \n",
            "\n",
            "R[write to console]: downloaded 2.6 MB\n",
            "\n",
            "\n",
            "R[write to console]: trying URL 'https://cran.rstudio.com/src/contrib/DataVisualizations_1.2.2.tar.gz'\n",
            "\n",
            "R[write to console]: Content type 'application/x-gzip'\n",
            "R[write to console]:  length 1814495 bytes (1.7 MB)\n",
            "\n",
            "R[write to console]: =\n",
            "R[write to console]: =\n",
            "R[write to console]: =\n",
            "R[write to console]: =\n",
            "R[write to console]: =\n",
            "R[write to console]: =\n",
            "R[write to console]: =\n",
            "R[write to console]: =\n",
            "R[write to console]: =\n",
            "R[write to console]: =\n",
            "R[write to console]: =\n",
            "R[write to console]: =\n",
            "R[write to console]: =\n",
            "R[write to console]: =\n",
            "R[write to console]: =\n",
            "R[write to console]: =\n",
            "R[write to console]: =\n",
            "R[write to console]: =\n",
            "R[write to console]: =\n",
            "R[write to console]: =\n",
            "R[write to console]: =\n",
            "R[write to console]: =\n",
            "R[write to console]: =\n",
            "R[write to console]: =\n",
            "R[write to console]: =\n",
            "R[write to console]: =\n",
            "R[write to console]: =\n",
            "R[write to console]: =\n",
            "R[write to console]: =\n",
            "R[write to console]: =\n",
            "R[write to console]: =\n",
            "R[write to console]: =\n",
            "R[write to console]: =\n",
            "R[write to console]: =\n",
            "R[write to console]: =\n",
            "R[write to console]: =\n",
            "R[write to console]: =\n",
            "R[write to console]: =\n",
            "R[write to console]: =\n",
            "R[write to console]: =\n",
            "R[write to console]: =\n",
            "R[write to console]: =\n",
            "R[write to console]: =\n",
            "R[write to console]: =\n",
            "R[write to console]: =\n",
            "R[write to console]: =\n",
            "R[write to console]: =\n",
            "R[write to console]: =\n",
            "R[write to console]: =\n",
            "R[write to console]: =\n",
            "R[write to console]: \n",
            "\n",
            "R[write to console]: downloaded 1.7 MB\n",
            "\n",
            "\n",
            "R[write to console]: trying URL 'https://cran.rstudio.com/src/contrib/FCPS_1.3.0.tar.gz'\n",
            "\n",
            "R[write to console]: Content type 'application/x-gzip'\n",
            "R[write to console]:  length 2771273 bytes (2.6 MB)\n",
            "\n",
            "R[write to console]: =\n",
            "R[write to console]: =\n",
            "R[write to console]: =\n",
            "R[write to console]: =\n",
            "R[write to console]: =\n",
            "R[write to console]: =\n",
            "R[write to console]: =\n",
            "R[write to console]: =\n",
            "R[write to console]: =\n",
            "R[write to console]: =\n",
            "R[write to console]: =\n",
            "R[write to console]: =\n",
            "R[write to console]: =\n",
            "R[write to console]: =\n",
            "R[write to console]: =\n",
            "R[write to console]: =\n",
            "R[write to console]: =\n",
            "R[write to console]: =\n",
            "R[write to console]: =\n",
            "R[write to console]: =\n",
            "R[write to console]: =\n",
            "R[write to console]: =\n",
            "R[write to console]: =\n",
            "R[write to console]: =\n",
            "R[write to console]: =\n",
            "R[write to console]: =\n",
            "R[write to console]: =\n",
            "R[write to console]: =\n",
            "R[write to console]: =\n",
            "R[write to console]: =\n",
            "R[write to console]: =\n",
            "R[write to console]: =\n",
            "R[write to console]: =\n",
            "R[write to console]: =\n",
            "R[write to console]: =\n",
            "R[write to console]: =\n",
            "R[write to console]: =\n",
            "R[write to console]: =\n",
            "R[write to console]: =\n",
            "R[write to console]: =\n",
            "R[write to console]: =\n",
            "R[write to console]: =\n",
            "R[write to console]: =\n",
            "R[write to console]: =\n",
            "R[write to console]: =\n",
            "R[write to console]: =\n",
            "R[write to console]: =\n",
            "R[write to console]: =\n",
            "R[write to console]: =\n",
            "R[write to console]: =\n",
            "R[write to console]: \n",
            "\n",
            "R[write to console]: downloaded 2.6 MB\n",
            "\n",
            "\n",
            "R[write to console]: \n",
            "\n",
            "R[write to console]: \n",
            "R[write to console]: The downloaded source packages are in\n",
            "\t‘/tmp/RtmpBt3EI9/downloaded_packages’\n",
            "R[write to console]: \n",
            "R[write to console]: \n",
            "\n"
          ]
        }
      ]
    },
    {
      "cell_type": "code",
      "source": [
        "def test_perf(pred_TSNE_labels):\n",
        "  nmi = normalized_mutual_info_score(pred_TSNE_labels,labels) *100\n",
        "  acc = fcps.ClusterAccuracy(pred_TSNE_labels,labels)[0] *100\n",
        "  ari = adjusted_rand_score(pred_TSNE_labels,labels) *100\n",
        "\n",
        "  print(\"Cluster Accuracy score = {}%\".format(acc.round(2)))\n",
        "  print(\"NMI Score = {}%\".format(nmi.round(2)))\n",
        "  print(\"ARI score = {}%\".format(ari))"
      ],
      "metadata": {
        "id": "dgVd3qDYmUkY"
      },
      "execution_count": null,
      "outputs": []
    },
    {
      "cell_type": "code",
      "source": [
        "import seaborn as sns\n",
        "from sklearn.metrics.cluster import normalized_mutual_info_score as nmi\n",
        "def eval_clustering(X,pred_labels,labels=labels):\n",
        "  labels=globals()['labels']\n",
        "  plt.figure(figsize=(13, 8))\n",
        "  plt.subplot(121)\n",
        "  sns.color_palette(\"Spectral\",as_cmap=True)\n",
        "  sns.scatterplot(x=X[:, 0], y=X[:, 1], hue=labels,palette='Spectral')\n",
        "  plt.title('true labels')\n",
        "  plt.subplot(122)\n",
        "  sns.scatterplot(x=X[:, 0], y=X[:, 1], hue=pred_labels,palette='Spectral')\n",
        "  plt.title('predicted labels')\n",
        "  nmi = normalized_mutual_info_score(pred_labels,labels) *100\n",
        "  plt.suptitle('NMI = ' + str(round(nmi,2))+ '%')"
      ],
      "metadata": {
        "id": "XavTnSQmmVyf"
      },
      "execution_count": null,
      "outputs": []
    },
    {
      "cell_type": "code",
      "execution_count": null,
      "metadata": {
        "id": "CAdo9ALj_Qum"
      },
      "outputs": [],
      "source": [
        "import gdown\n",
        "import numpy as np\n",
        "\n",
        "url = \"http://allousame.free.fr/mlds/tp/\"\n",
        "files = [\"accm\", \"acce\", \"vit\"]"
      ]
    },
    {
      "cell_type": "code",
      "execution_count": null,
      "metadata": {
        "id": "E7PKzRZAq6zu",
        "outputId": "cadce956-e230-458a-f944-02bd821eb662",
        "colab": {
          "base_uri": "https://localhost:8080/"
        }
      },
      "outputs": [
        {
          "output_type": "stream",
          "name": "stderr",
          "text": [
            "Downloading...\n",
            "From: http://allousame.free.fr/mlds/tp/accm_x\n",
            "To: /content/accm_x\n",
            "100%|██████████| 427k/427k [00:00<00:00, 1.13MB/s]\n",
            "Downloading...\n",
            "From: http://allousame.free.fr/mlds/tp/accm_y\n",
            "To: /content/accm_y\n",
            "100%|██████████| 476k/476k [00:00<00:00, 1.24MB/s]\n",
            "Downloading...\n",
            "From: http://allousame.free.fr/mlds/tp/accm_z\n",
            "To: /content/accm_z\n",
            "100%|██████████| 481k/481k [00:00<00:00, 1.26MB/s]\n",
            "Downloading...\n",
            "From: http://allousame.free.fr/mlds/tp/acce_x\n",
            "To: /content/acce_x\n",
            "100%|██████████| 512k/512k [00:00<00:00, 1.33MB/s]\n",
            "Downloading...\n",
            "From: http://allousame.free.fr/mlds/tp/acce_y\n",
            "To: /content/acce_y\n",
            "100%|██████████| 507k/507k [00:00<00:00, 1.33MB/s]\n",
            "Downloading...\n",
            "From: http://allousame.free.fr/mlds/tp/acce_z\n",
            "To: /content/acce_z\n",
            "100%|██████████| 513k/513k [00:00<00:00, 1.33MB/s]\n",
            "Downloading...\n",
            "From: http://allousame.free.fr/mlds/tp/vit_x\n",
            "To: /content/vit_x\n",
            "100%|██████████| 493k/493k [00:00<00:00, 1.31MB/s]\n",
            "Downloading...\n",
            "From: http://allousame.free.fr/mlds/tp/vit_y\n",
            "To: /content/vit_y\n",
            "100%|██████████| 494k/494k [00:00<00:00, 1.30MB/s]\n",
            "Downloading...\n",
            "From: http://allousame.free.fr/mlds/tp/vit_z\n",
            "To: /content/vit_z\n",
            "100%|██████████| 495k/495k [00:00<00:00, 1.30MB/s]\n",
            "Downloading...\n",
            "From: http://allousame.free.fr/mlds/tp/lab.txt\n",
            "To: /content/lab\n",
            "100%|██████████| 1.04k/1.04k [00:00<00:00, 1.54MB/s]\n"
          ]
        }
      ],
      "source": [
        "\n",
        "for file in files:\n",
        "  for axis in [\"x\", \"y\", \"z\"]:\n",
        "    file_ = file + \"_\" + axis\n",
        "    url_ = url + file_\n",
        "    gdown.download(url_, file_, quiet=False)\n",
        "    globals()[file_] = np.loadtxt(file_, delimiter = \" \")\n",
        "\n",
        "gdown.download(url + \"lab.txt\", \"lab\", quiet=False)\n",
        "globals()[\"labels\"] = np.loadtxt(\"lab\", delimiter = \" \")"
      ]
    },
    {
      "cell_type": "code",
      "source": [
        "data=np.stack((acce_x,acce_y,acce_z,accm_x,accm_y,accm_z,vit_x,vit_y,vit_z),axis=2)"
      ],
      "metadata": {
        "id": "iMoC87O7jnZV"
      },
      "execution_count": null,
      "outputs": []
    },
    {
      "cell_type": "code",
      "source": [
        "data.shape"
      ],
      "metadata": {
        "colab": {
          "base_uri": "https://localhost:8080/"
        },
        "id": "fCMui0Y3kZeM",
        "outputId": "73f6ab69-bf0f-451e-d899-c761d4d2f361"
      },
      "execution_count": null,
      "outputs": [
        {
          "output_type": "execute_result",
          "data": {
            "text/plain": [
              "(347, 128, 9)"
            ]
          },
          "metadata": {},
          "execution_count": 73
        }
      ]
    },
    {
      "cell_type": "code",
      "source": [
        "!pip install tslearn\n",
        "!pip install coclust\n",
        "!pip install scikit-learn==0.22.2\n",
        "!pip install scikit-fda\n",
        "!pip install dtaidistance"
      ],
      "metadata": {
        "id": "iSMRkiy3kgGc"
      },
      "execution_count": null,
      "outputs": []
    },
    {
      "cell_type": "code",
      "source": [
        "nb_classes=len(set(labels))"
      ],
      "metadata": {
        "id": "_h9tDqwSk31Z"
      },
      "execution_count": null,
      "outputs": []
    },
    {
      "cell_type": "code",
      "source": [
        "data.shape"
      ],
      "metadata": {
        "colab": {
          "base_uri": "https://localhost:8080/"
        },
        "id": "k4TjL2M1lN-W",
        "outputId": "7a14eb07-e377-46e2-dd30-430b7703f9be"
      },
      "execution_count": null,
      "outputs": [
        {
          "output_type": "execute_result",
          "data": {
            "text/plain": [
              "(347, 128, 9)"
            ]
          },
          "metadata": {},
          "execution_count": 110
        }
      ]
    },
    {
      "cell_type": "code",
      "source": [
        "plt.scatter(data[:,0],data[:,1])"
      ],
      "metadata": {
        "colab": {
          "base_uri": "https://localhost:8080/",
          "height": 284
        },
        "id": "NaywU4ZT2FPc",
        "outputId": "5163961f-26e4-4382-fedf-c09dc96a8d11"
      },
      "execution_count": null,
      "outputs": [
        {
          "output_type": "execute_result",
          "data": {
            "text/plain": [
              "<matplotlib.collections.PathCollection at 0x7fc532b306d0>"
            ]
          },
          "metadata": {},
          "execution_count": 116
        },
        {
          "output_type": "display_data",
          "data": {
            "image/png": "[encoded data removed]",
            "text/plain": [
              "<Figure size 432x288 with 1 Axes>"
            ]
          },
          "metadata": {
            "needs_background": "light"
          }
        }
      ]
    },
    {
      "cell_type": "markdown",
      "source": [
        "#Classification en méthodes direct"
      ],
      "metadata": {
        "id": "NHHd2dqHlvJe"
      }
    },
    {
      "cell_type": "markdown",
      "source": [
        "##Time Series k-means avec distance euclidienne"
      ],
      "metadata": {
        "id": "i7evMVJyn05g"
      }
    },
    {
      "cell_type": "code",
      "source": [
        "kmeans = TimeSeriesKMeans(nb_classes, metric=\"euclidean\", max_iter=10,random_state=100)\n",
        "kmeans.fit(data)\n",
        "predtmkm_labels = kmeans.labels_"
      ],
      "metadata": {
        "id": "omjsbVD_lOsG"
      },
      "execution_count": null,
      "outputs": []
    },
    {
      "cell_type": "code",
      "source": [
        "test_perf(predtmkm_labels)"
      ],
      "metadata": {
        "colab": {
          "base_uri": "https://localhost:8080/"
        },
        "id": "9uW999A3nq8h",
        "outputId": "67d3fdd4-0051-4bff-94d6-4ebd534df296"
      },
      "execution_count": null,
      "outputs": [
        {
          "output_type": "stream",
          "name": "stdout",
          "text": [
            "Cluster Accuracy score = 57.64%\n",
            "NMI Score = 57.97%\n",
            "ARI score = 36.303271877943835%\n"
          ]
        }
      ]
    },
    {
      "cell_type": "markdown",
      "source": [
        "##Time Series k-means avec distance Dynamic Time Wrapping"
      ],
      "metadata": {
        "id": "-2gMEg4mn6en"
      }
    },
    {
      "cell_type": "code",
      "source": [
        "kmeans = TimeSeriesKMeans(nb_classes, metric=\"dtw\", max_iter=10,random_state=42)\n",
        "kmeans.fit(data)\n",
        "predtmkm_dtw_labels = kmeans.labels_"
      ],
      "metadata": {
        "id": "BiDh3M_NoFXW"
      },
      "execution_count": null,
      "outputs": []
    },
    {
      "cell_type": "code",
      "source": [
        "test_perf(predtmkm_dtw_labels)"
      ],
      "metadata": {
        "colab": {
          "base_uri": "https://localhost:8080/"
        },
        "id": "i1GDQqF1oFT0",
        "outputId": "32349b5a-a114-4acc-cb9d-84316174c1e9"
      },
      "execution_count": null,
      "outputs": [
        {
          "output_type": "stream",
          "name": "stdout",
          "text": [
            "Cluster Accuracy score = 96.54%\n",
            "NMI Score = 95.19%\n",
            "ARI score = 93.90279510738463%\n"
          ]
        }
      ]
    },
    {
      "cell_type": "markdown",
      "source": [
        "#Classification en méthodes basées sur l'extraction de caractéristiques"
      ],
      "metadata": {
        "id": "wAtER6AFpNSf"
      }
    },
    {
      "cell_type": "markdown",
      "source": [
        "##Méthode de kmeans avec fourier (dtw)"
      ],
      "metadata": {
        "id": "Ou2C0LS4rQol"
      }
    },
    {
      "cell_type": "code",
      "source": [
        "fourier = np.abs(fft(data))"
      ],
      "metadata": {
        "id": "VNkZ42tVqYct"
      },
      "execution_count": null,
      "outputs": []
    },
    {
      "cell_type": "code",
      "source": [
        "kmfourier = TimeSeriesKMeans(nb_classes, metric=\"dtw\", max_iter=10, random_state=42)\n",
        "kmfourier.fit(fourier)\n",
        "predfourier_labels = kmfourier.labels_"
      ],
      "metadata": {
        "id": "CY59mTJVqZtU"
      },
      "execution_count": null,
      "outputs": []
    },
    {
      "cell_type": "code",
      "source": [
        "test_perf(predfourier_labels)"
      ],
      "metadata": {
        "colab": {
          "base_uri": "https://localhost:8080/"
        },
        "id": "PW9RCvsaql-n",
        "outputId": "5b2629c3-62c7-42f0-86ed-203435b7f975"
      },
      "execution_count": null,
      "outputs": [
        {
          "output_type": "stream",
          "name": "stdout",
          "text": [
            "Cluster Accuracy score = 63.11%\n",
            "NMI Score = 69.7%\n",
            "ARI score = 51.31073199977105%\n"
          ]
        }
      ]
    },
    {
      "cell_type": "markdown",
      "source": [
        "##Méthode de kmeans avec fourier (euclidean)"
      ],
      "metadata": {
        "id": "vgRU121hra56"
      }
    },
    {
      "cell_type": "code",
      "source": [
        "kmfourier = TimeSeriesKMeans(nb_classes, metric=\"euclidean\", max_iter=10, random_state=42)\n",
        "kmfourier.fit(fourier)\n",
        "predfourier_euc_labels = kmfourier.labels_"
      ],
      "metadata": {
        "id": "ZXhJVAVcqnwo"
      },
      "execution_count": null,
      "outputs": []
    },
    {
      "cell_type": "code",
      "source": [
        "test_perf(predfourier_euc_labels)"
      ],
      "metadata": {
        "colab": {
          "base_uri": "https://localhost:8080/"
        },
        "id": "lh6vRrDDrhwK",
        "outputId": "eea566c3-520c-44d4-cb3e-9b6392b6bd56"
      },
      "execution_count": null,
      "outputs": [
        {
          "output_type": "stream",
          "name": "stdout",
          "text": [
            "Cluster Accuracy score = 43.23%\n",
            "NMI Score = 41.83%\n",
            "ARI score = 20.18309383697929%\n"
          ]
        }
      ]
    },
    {
      "cell_type": "markdown",
      "source": [
        "##Méthode de réduction de dimension avec FPCA"
      ],
      "metadata": {
        "id": "-B5p4my1vrX8"
      }
    },
    {
      "cell_type": "code",
      "execution_count": null,
      "metadata": {
        "id": "y1aycOrmLdIX"
      },
      "outputs": [],
      "source": [
        "fpca = FPCA(n_components=2, components_basis = Fourier(n_basis=347))"
      ]
    },
    {
      "cell_type": "code",
      "source": [
        "fdata = FDataBasis(Monomial(n_basis=347), data.mean(axis=2).T)"
      ],
      "metadata": {
        "id": "s0d7H6JUv0T6"
      },
      "execution_count": null,
      "outputs": []
    },
    {
      "cell_type": "code",
      "source": [
        "fpca.fit(fdata)\n"
      ],
      "metadata": {
        "colab": {
          "base_uri": "https://localhost:8080/"
        },
        "id": "KUqZ2eYVv4pp",
        "outputId": "e7336d50-47d1-4742-8e3d-ec39d9bbea68"
      },
      "execution_count": null,
      "outputs": [
        {
          "output_type": "execute_result",
          "data": {
            "text/plain": [
              "FPCA(components_basis=Fourier(domain_range=((0, 1),), n_basis=347, period=1),\n",
              "     n_components=2)"
            ]
          },
          "metadata": {},
          "execution_count": 80
        }
      ]
    },
    {
      "cell_type": "code",
      "source": [
        "fpca_data = fpca.components_.coefficients.transpose()"
      ],
      "metadata": {
        "id": "dlWklJlNwASO"
      },
      "execution_count": null,
      "outputs": []
    },
    {
      "cell_type": "code",
      "source": [
        "kmeans = KMeans(nb_classes)\n",
        "kmeans.fit(fpca_data)\n",
        "predkm_fpca_labels = kmeans.labels_"
      ],
      "metadata": {
        "id": "gtfWakYswJJo"
      },
      "execution_count": null,
      "outputs": []
    },
    {
      "cell_type": "code",
      "source": [
        "test_perf(predkm_fpca_labels)"
      ],
      "metadata": {
        "colab": {
          "base_uri": "https://localhost:8080/"
        },
        "id": "GgCXVGqFwPoT",
        "outputId": "f2f6b442-7580-40b6-fe5a-63aaafbfd127"
      },
      "execution_count": null,
      "outputs": [
        {
          "output_type": "stream",
          "name": "stdout",
          "text": [
            "Cluster Accuracy score = 30.55%\n",
            "NMI Score = 16.07%\n",
            "ARI score = 4.9198510482299165%\n"
          ]
        }
      ]
    },
    {
      "cell_type": "code",
      "source": [
        "eval_clustering(fpca_data,predkm_fpca_labels)"
      ],
      "metadata": {
        "colab": {
          "base_uri": "https://localhost:8080/",
          "height": 540
        },
        "id": "BNIo_sfcwdLO",
        "outputId": "63a38967-87e8-4e01-e201-26c6dac2f1ee"
      },
      "execution_count": null,
      "outputs": [
        {
          "output_type": "display_data",
          "data": {
            "image/png": "[encoded data removed]",
            "text/plain": [
              "<Figure size 936x576 with 2 Axes>"
            ]
          },
          "metadata": {
            "needs_background": "light"
          }
        }
      ]
    },
    {
      "cell_type": "markdown",
      "source": [
        "#Classification en méthodes probabilistes adaptés aux séries temporelles"
      ],
      "metadata": {
        "id": "Sb1OgErWu-fY"
      }
    },
    {
      "cell_type": "markdown",
      "source": [
        "##Régression polynomiale"
      ],
      "metadata": {
        "id": "P08f7ySKxhtm"
      }
    },
    {
      "cell_type": "code",
      "source": [
        "data.mean(axis=2).shape"
      ],
      "metadata": {
        "colab": {
          "base_uri": "https://localhost:8080/"
        },
        "id": "rMKmp1tLveUH",
        "outputId": "2a1f1b0d-cd12-4e0b-e421-90919934cb82"
      },
      "execution_count": null,
      "outputs": [
        {
          "output_type": "execute_result",
          "data": {
            "text/plain": [
              "(347, 128)"
            ]
          },
          "metadata": {},
          "execution_count": 77
        }
      ]
    },
    {
      "cell_type": "code",
      "source": [
        "def get_poly(row):\n",
        "  x = np.arange(0, 2.56, 0.02)\n",
        "  poly = np.poly1d(np.polyfit(x, row, 20))\n",
        "  return poly"
      ],
      "metadata": {
        "id": "LgGrZoXJvfV1"
      },
      "execution_count": null,
      "outputs": []
    },
    {
      "cell_type": "code",
      "source": [
        "df_avg = pd.DataFrame(data.mean(axis=2))\n",
        "df_avg_poly = df_avg.apply(get_poly, axis=1)"
      ],
      "metadata": {
        "colab": {
          "base_uri": "https://localhost:8080/"
        },
        "id": "RSZ5pl2Ex5Hf",
        "outputId": "030f034a-d040-4159-8eda-37722d87775a"
      },
      "execution_count": null,
      "outputs": [
        {
          "output_type": "stream",
          "name": "stderr",
          "text": [
            " /usr/local/lib/python3.7/dist-packages/pandas/core/apply.py:305: RankWarning:Polyfit may be poorly conditioned\n",
            " /usr/local/lib/python3.7/dist-packages/pandas/core/apply.py:305: RankWarning:Polyfit may be poorly conditioned\n",
            " /usr/local/lib/python3.7/dist-packages/pandas/core/apply.py:305: RankWarning:Polyfit may be poorly conditioned\n",
            " /usr/local/lib/python3.7/dist-packages/pandas/core/apply.py:305: RankWarning:Polyfit may be poorly conditioned\n",
            " /usr/local/lib/python3.7/dist-packages/pandas/core/apply.py:305: RankWarning:Polyfit may be poorly conditioned\n",
            " /usr/local/lib/python3.7/dist-packages/pandas/core/apply.py:305: RankWarning:Polyfit may be poorly conditioned\n",
            " /usr/local/lib/python3.7/dist-packages/pandas/core/apply.py:305: RankWarning:Polyfit may be poorly conditioned\n",
            " /usr/local/lib/python3.7/dist-packages/pandas/core/apply.py:305: RankWarning:Polyfit may be poorly conditioned\n",
            " /usr/local/lib/python3.7/dist-packages/pandas/core/apply.py:305: RankWarning:Polyfit may be poorly conditioned\n",
            " /usr/local/lib/python3.7/dist-packages/pandas/core/apply.py:305: RankWarning:Polyfit may be poorly conditioned\n",
            " /usr/local/lib/python3.7/dist-packages/pandas/core/apply.py:305: RankWarning:Polyfit may be poorly conditioned\n",
            " /usr/local/lib/python3.7/dist-packages/pandas/core/apply.py:305: RankWarning:Polyfit may be poorly conditioned\n",
            " /usr/local/lib/python3.7/dist-packages/pandas/core/apply.py:305: RankWarning:Polyfit may be poorly conditioned\n",
            " /usr/local/lib/python3.7/dist-packages/pandas/core/apply.py:305: RankWarning:Polyfit may be poorly conditioned\n",
            " /usr/local/lib/python3.7/dist-packages/pandas/core/apply.py:305: RankWarning:Polyfit may be poorly conditioned\n",
            " /usr/local/lib/python3.7/dist-packages/pandas/core/apply.py:305: RankWarning:Polyfit may be poorly conditioned\n",
            " /usr/local/lib/python3.7/dist-packages/pandas/core/apply.py:305: RankWarning:Polyfit may be poorly conditioned\n",
            " /usr/local/lib/python3.7/dist-packages/pandas/core/apply.py:305: RankWarning:Polyfit may be poorly conditioned\n",
            " /usr/local/lib/python3.7/dist-packages/pandas/core/apply.py:305: RankWarning:Polyfit may be poorly conditioned\n",
            " /usr/local/lib/python3.7/dist-packages/pandas/core/apply.py:305: RankWarning:Polyfit may be poorly conditioned\n",
            " /usr/local/lib/python3.7/dist-packages/pandas/core/apply.py:305: RankWarning:Polyfit may be poorly conditioned\n",
            " /usr/local/lib/python3.7/dist-packages/pandas/core/apply.py:305: RankWarning:Polyfit may be poorly conditioned\n",
            " /usr/local/lib/python3.7/dist-packages/pandas/core/apply.py:305: RankWarning:Polyfit may be poorly conditioned\n",
            " /usr/local/lib/python3.7/dist-packages/pandas/core/apply.py:305: RankWarning:Polyfit may be poorly conditioned\n",
            " /usr/local/lib/python3.7/dist-packages/pandas/core/apply.py:305: RankWarning:Polyfit may be poorly conditioned\n",
            " /usr/local/lib/python3.7/dist-packages/pandas/core/apply.py:305: RankWarning:Polyfit may be poorly conditioned\n",
            " /usr/local/lib/python3.7/dist-packages/pandas/core/apply.py:305: RankWarning:Polyfit may be poorly conditioned\n",
            " /usr/local/lib/python3.7/dist-packages/pandas/core/apply.py:305: RankWarning:Polyfit may be poorly conditioned\n",
            " /usr/local/lib/python3.7/dist-packages/pandas/core/apply.py:305: RankWarning:Polyfit may be poorly conditioned\n",
            " /usr/local/lib/python3.7/dist-packages/pandas/core/apply.py:305: RankWarning:Polyfit may be poorly conditioned\n",
            " /usr/local/lib/python3.7/dist-packages/pandas/core/apply.py:305: RankWarning:Polyfit may be poorly conditioned\n",
            " /usr/local/lib/python3.7/dist-packages/pandas/core/apply.py:305: RankWarning:Polyfit may be poorly conditioned\n",
            " /usr/local/lib/python3.7/dist-packages/pandas/core/apply.py:305: RankWarning:Polyfit may be poorly conditioned\n",
            " /usr/local/lib/python3.7/dist-packages/pandas/core/apply.py:305: RankWarning:Polyfit may be poorly conditioned\n",
            " /usr/local/lib/python3.7/dist-packages/pandas/core/apply.py:305: RankWarning:Polyfit may be poorly conditioned\n",
            " /usr/local/lib/python3.7/dist-packages/pandas/core/apply.py:305: RankWarning:Polyfit may be poorly conditioned\n",
            " /usr/local/lib/python3.7/dist-packages/pandas/core/apply.py:305: RankWarning:Polyfit may be poorly conditioned\n",
            " /usr/local/lib/python3.7/dist-packages/pandas/core/apply.py:305: RankWarning:Polyfit may be poorly conditioned\n",
            " /usr/local/lib/python3.7/dist-packages/pandas/core/apply.py:305: RankWarning:Polyfit may be poorly conditioned\n",
            " /usr/local/lib/python3.7/dist-packages/pandas/core/apply.py:305: RankWarning:Polyfit may be poorly conditioned\n",
            " /usr/local/lib/python3.7/dist-packages/pandas/core/apply.py:305: RankWarning:Polyfit may be poorly conditioned\n",
            " /usr/local/lib/python3.7/dist-packages/pandas/core/apply.py:305: RankWarning:Polyfit may be poorly conditioned\n",
            " /usr/local/lib/python3.7/dist-packages/pandas/core/apply.py:305: RankWarning:Polyfit may be poorly conditioned\n",
            " /usr/local/lib/python3.7/dist-packages/pandas/core/apply.py:305: RankWarning:Polyfit may be poorly conditioned\n",
            " /usr/local/lib/python3.7/dist-packages/pandas/core/apply.py:305: RankWarning:Polyfit may be poorly conditioned\n",
            " /usr/local/lib/python3.7/dist-packages/pandas/core/apply.py:305: RankWarning:Polyfit may be poorly conditioned\n",
            " /usr/local/lib/python3.7/dist-packages/pandas/core/apply.py:305: RankWarning:Polyfit may be poorly conditioned\n",
            " /usr/local/lib/python3.7/dist-packages/pandas/core/apply.py:305: RankWarning:Polyfit may be poorly conditioned\n",
            " /usr/local/lib/python3.7/dist-packages/pandas/core/apply.py:305: RankWarning:Polyfit may be poorly conditioned\n",
            " /usr/local/lib/python3.7/dist-packages/pandas/core/apply.py:305: RankWarning:Polyfit may be poorly conditioned\n",
            " /usr/local/lib/python3.7/dist-packages/pandas/core/apply.py:305: RankWarning:Polyfit may be poorly conditioned\n",
            " /usr/local/lib/python3.7/dist-packages/pandas/core/apply.py:305: RankWarning:Polyfit may be poorly conditioned\n",
            " /usr/local/lib/python3.7/dist-packages/pandas/core/apply.py:305: RankWarning:Polyfit may be poorly conditioned\n",
            " /usr/local/lib/python3.7/dist-packages/pandas/core/apply.py:305: RankWarning:Polyfit may be poorly conditioned\n",
            " /usr/local/lib/python3.7/dist-packages/pandas/core/apply.py:305: RankWarning:Polyfit may be poorly conditioned\n",
            " /usr/local/lib/python3.7/dist-packages/pandas/core/apply.py:305: RankWarning:Polyfit may be poorly conditioned\n",
            " /usr/local/lib/python3.7/dist-packages/pandas/core/apply.py:305: RankWarning:Polyfit may be poorly conditioned\n",
            " /usr/local/lib/python3.7/dist-packages/pandas/core/apply.py:305: RankWarning:Polyfit may be poorly conditioned\n",
            " /usr/local/lib/python3.7/dist-packages/pandas/core/apply.py:305: RankWarning:Polyfit may be poorly conditioned\n",
            " /usr/local/lib/python3.7/dist-packages/pandas/core/apply.py:305: RankWarning:Polyfit may be poorly conditioned\n",
            " /usr/local/lib/python3.7/dist-packages/pandas/core/apply.py:305: RankWarning:Polyfit may be poorly conditioned\n",
            " /usr/local/lib/python3.7/dist-packages/pandas/core/apply.py:305: RankWarning:Polyfit may be poorly conditioned\n",
            " /usr/local/lib/python3.7/dist-packages/pandas/core/apply.py:305: RankWarning:Polyfit may be poorly conditioned\n",
            " /usr/local/lib/python3.7/dist-packages/pandas/core/apply.py:305: RankWarning:Polyfit may be poorly conditioned\n",
            " /usr/local/lib/python3.7/dist-packages/pandas/core/apply.py:305: RankWarning:Polyfit may be poorly conditioned\n",
            " /usr/local/lib/python3.7/dist-packages/pandas/core/apply.py:305: RankWarning:Polyfit may be poorly conditioned\n",
            " /usr/local/lib/python3.7/dist-packages/pandas/core/apply.py:305: RankWarning:Polyfit may be poorly conditioned\n",
            " /usr/local/lib/python3.7/dist-packages/pandas/core/apply.py:305: RankWarning:Polyfit may be poorly conditioned\n",
            " /usr/local/lib/python3.7/dist-packages/pandas/core/apply.py:305: RankWarning:Polyfit may be poorly conditioned\n",
            " /usr/local/lib/python3.7/dist-packages/pandas/core/apply.py:305: RankWarning:Polyfit may be poorly conditioned\n",
            " /usr/local/lib/python3.7/dist-packages/pandas/core/apply.py:305: RankWarning:Polyfit may be poorly conditioned\n",
            " /usr/local/lib/python3.7/dist-packages/pandas/core/apply.py:305: RankWarning:Polyfit may be poorly conditioned\n",
            " /usr/local/lib/python3.7/dist-packages/pandas/core/apply.py:305: RankWarning:Polyfit may be poorly conditioned\n",
            " /usr/local/lib/python3.7/dist-packages/pandas/core/apply.py:305: RankWarning:Polyfit may be poorly conditioned\n",
            " /usr/local/lib/python3.7/dist-packages/pandas/core/apply.py:305: RankWarning:Polyfit may be poorly conditioned\n",
            " /usr/local/lib/python3.7/dist-packages/pandas/core/apply.py:305: RankWarning:Polyfit may be poorly conditioned\n",
            " /usr/local/lib/python3.7/dist-packages/pandas/core/apply.py:305: RankWarning:Polyfit may be poorly conditioned\n",
            " /usr/local/lib/python3.7/dist-packages/pandas/core/apply.py:305: RankWarning:Polyfit may be poorly conditioned\n",
            " /usr/local/lib/python3.7/dist-packages/pandas/core/apply.py:305: RankWarning:Polyfit may be poorly conditioned\n",
            " /usr/local/lib/python3.7/dist-packages/pandas/core/apply.py:305: RankWarning:Polyfit may be poorly conditioned\n",
            " /usr/local/lib/python3.7/dist-packages/pandas/core/apply.py:305: RankWarning:Polyfit may be poorly conditioned\n",
            " /usr/local/lib/python3.7/dist-packages/pandas/core/apply.py:305: RankWarning:Polyfit may be poorly conditioned\n",
            " /usr/local/lib/python3.7/dist-packages/pandas/core/apply.py:305: RankWarning:Polyfit may be poorly conditioned\n",
            " /usr/local/lib/python3.7/dist-packages/pandas/core/apply.py:305: RankWarning:Polyfit may be poorly conditioned\n",
            " /usr/local/lib/python3.7/dist-packages/pandas/core/apply.py:305: RankWarning:Polyfit may be poorly conditioned\n",
            " /usr/local/lib/python3.7/dist-packages/pandas/core/apply.py:305: RankWarning:Polyfit may be poorly conditioned\n",
            " /usr/local/lib/python3.7/dist-packages/pandas/core/apply.py:305: RankWarning:Polyfit may be poorly conditioned\n",
            " /usr/local/lib/python3.7/dist-packages/pandas/core/apply.py:305: RankWarning:Polyfit may be poorly conditioned\n",
            " /usr/local/lib/python3.7/dist-packages/pandas/core/apply.py:305: RankWarning:Polyfit may be poorly conditioned\n",
            " /usr/local/lib/python3.7/dist-packages/pandas/core/apply.py:305: RankWarning:Polyfit may be poorly conditioned\n",
            " /usr/local/lib/python3.7/dist-packages/pandas/core/apply.py:305: RankWarning:Polyfit may be poorly conditioned\n",
            " /usr/local/lib/python3.7/dist-packages/pandas/core/apply.py:305: RankWarning:Polyfit may be poorly conditioned\n",
            " /usr/local/lib/python3.7/dist-packages/pandas/core/apply.py:305: RankWarning:Polyfit may be poorly conditioned\n",
            " /usr/local/lib/python3.7/dist-packages/pandas/core/apply.py:305: RankWarning:Polyfit may be poorly conditioned\n",
            " /usr/local/lib/python3.7/dist-packages/pandas/core/apply.py:305: RankWarning:Polyfit may be poorly conditioned\n",
            " /usr/local/lib/python3.7/dist-packages/pandas/core/apply.py:305: RankWarning:Polyfit may be poorly conditioned\n",
            " /usr/local/lib/python3.7/dist-packages/pandas/core/apply.py:305: RankWarning:Polyfit may be poorly conditioned\n",
            " /usr/local/lib/python3.7/dist-packages/pandas/core/apply.py:305: RankWarning:Polyfit may be poorly conditioned\n",
            " /usr/local/lib/python3.7/dist-packages/pandas/core/apply.py:305: RankWarning:Polyfit may be poorly conditioned\n",
            " /usr/local/lib/python3.7/dist-packages/pandas/core/apply.py:305: RankWarning:Polyfit may be poorly conditioned\n",
            " /usr/local/lib/python3.7/dist-packages/pandas/core/apply.py:305: RankWarning:Polyfit may be poorly conditioned\n",
            " /usr/local/lib/python3.7/dist-packages/pandas/core/apply.py:305: RankWarning:Polyfit may be poorly conditioned\n",
            " /usr/local/lib/python3.7/dist-packages/pandas/core/apply.py:305: RankWarning:Polyfit may be poorly conditioned\n",
            " /usr/local/lib/python3.7/dist-packages/pandas/core/apply.py:305: RankWarning:Polyfit may be poorly conditioned\n",
            " /usr/local/lib/python3.7/dist-packages/pandas/core/apply.py:305: RankWarning:Polyfit may be poorly conditioned\n",
            " /usr/local/lib/python3.7/dist-packages/pandas/core/apply.py:305: RankWarning:Polyfit may be poorly conditioned\n",
            " /usr/local/lib/python3.7/dist-packages/pandas/core/apply.py:305: RankWarning:Polyfit may be poorly conditioned\n",
            " /usr/local/lib/python3.7/dist-packages/pandas/core/apply.py:305: RankWarning:Polyfit may be poorly conditioned\n",
            " /usr/local/lib/python3.7/dist-packages/pandas/core/apply.py:305: RankWarning:Polyfit may be poorly conditioned\n",
            " /usr/local/lib/python3.7/dist-packages/pandas/core/apply.py:305: RankWarning:Polyfit may be poorly conditioned\n",
            " /usr/local/lib/python3.7/dist-packages/pandas/core/apply.py:305: RankWarning:Polyfit may be poorly conditioned\n",
            " /usr/local/lib/python3.7/dist-packages/pandas/core/apply.py:305: RankWarning:Polyfit may be poorly conditioned\n",
            " /usr/local/lib/python3.7/dist-packages/pandas/core/apply.py:305: RankWarning:Polyfit may be poorly conditioned\n",
            " /usr/local/lib/python3.7/dist-packages/pandas/core/apply.py:305: RankWarning:Polyfit may be poorly conditioned\n",
            " /usr/local/lib/python3.7/dist-packages/pandas/core/apply.py:305: RankWarning:Polyfit may be poorly conditioned\n",
            " /usr/local/lib/python3.7/dist-packages/pandas/core/apply.py:305: RankWarning:Polyfit may be poorly conditioned\n",
            " /usr/local/lib/python3.7/dist-packages/pandas/core/apply.py:305: RankWarning:Polyfit may be poorly conditioned\n",
            " /usr/local/lib/python3.7/dist-packages/pandas/core/apply.py:305: RankWarning:Polyfit may be poorly conditioned\n",
            " /usr/local/lib/python3.7/dist-packages/pandas/core/apply.py:305: RankWarning:Polyfit may be poorly conditioned\n",
            " /usr/local/lib/python3.7/dist-packages/pandas/core/apply.py:305: RankWarning:Polyfit may be poorly conditioned\n",
            " /usr/local/lib/python3.7/dist-packages/pandas/core/apply.py:305: RankWarning:Polyfit may be poorly conditioned\n",
            " /usr/local/lib/python3.7/dist-packages/pandas/core/apply.py:305: RankWarning:Polyfit may be poorly conditioned\n",
            " /usr/local/lib/python3.7/dist-packages/pandas/core/apply.py:305: RankWarning:Polyfit may be poorly conditioned\n",
            " /usr/local/lib/python3.7/dist-packages/pandas/core/apply.py:305: RankWarning:Polyfit may be poorly conditioned\n",
            " /usr/local/lib/python3.7/dist-packages/pandas/core/apply.py:305: RankWarning:Polyfit may be poorly conditioned\n",
            " /usr/local/lib/python3.7/dist-packages/pandas/core/apply.py:305: RankWarning:Polyfit may be poorly conditioned\n",
            " /usr/local/lib/python3.7/dist-packages/pandas/core/apply.py:305: RankWarning:Polyfit may be poorly conditioned\n",
            " /usr/local/lib/python3.7/dist-packages/pandas/core/apply.py:305: RankWarning:Polyfit may be poorly conditioned\n",
            " /usr/local/lib/python3.7/dist-packages/pandas/core/apply.py:305: RankWarning:Polyfit may be poorly conditioned\n",
            " /usr/local/lib/python3.7/dist-packages/pandas/core/apply.py:305: RankWarning:Polyfit may be poorly conditioned\n",
            " /usr/local/lib/python3.7/dist-packages/pandas/core/apply.py:305: RankWarning:Polyfit may be poorly conditioned\n",
            " /usr/local/lib/python3.7/dist-packages/pandas/core/apply.py:305: RankWarning:Polyfit may be poorly conditioned\n",
            " /usr/local/lib/python3.7/dist-packages/pandas/core/apply.py:305: RankWarning:Polyfit may be poorly conditioned\n",
            " /usr/local/lib/python3.7/dist-packages/pandas/core/apply.py:305: RankWarning:Polyfit may be poorly conditioned\n",
            " /usr/local/lib/python3.7/dist-packages/pandas/core/apply.py:305: RankWarning:Polyfit may be poorly conditioned\n",
            " /usr/local/lib/python3.7/dist-packages/pandas/core/apply.py:305: RankWarning:Polyfit may be poorly conditioned\n",
            " /usr/local/lib/python3.7/dist-packages/pandas/core/apply.py:305: RankWarning:Polyfit may be poorly conditioned\n",
            " /usr/local/lib/python3.7/dist-packages/pandas/core/apply.py:305: RankWarning:Polyfit may be poorly conditioned\n",
            " /usr/local/lib/python3.7/dist-packages/pandas/core/apply.py:305: RankWarning:Polyfit may be poorly conditioned\n",
            " /usr/local/lib/python3.7/dist-packages/pandas/core/apply.py:305: RankWarning:Polyfit may be poorly conditioned\n",
            " /usr/local/lib/python3.7/dist-packages/pandas/core/apply.py:305: RankWarning:Polyfit may be poorly conditioned\n",
            " /usr/local/lib/python3.7/dist-packages/pandas/core/apply.py:305: RankWarning:Polyfit may be poorly conditioned\n",
            " /usr/local/lib/python3.7/dist-packages/pandas/core/apply.py:305: RankWarning:Polyfit may be poorly conditioned\n",
            " /usr/local/lib/python3.7/dist-packages/pandas/core/apply.py:305: RankWarning:Polyfit may be poorly conditioned\n",
            " /usr/local/lib/python3.7/dist-packages/pandas/core/apply.py:305: RankWarning:Polyfit may be poorly conditioned\n",
            " /usr/local/lib/python3.7/dist-packages/pandas/core/apply.py:305: RankWarning:Polyfit may be poorly conditioned\n",
            " /usr/local/lib/python3.7/dist-packages/pandas/core/apply.py:305: RankWarning:Polyfit may be poorly conditioned\n",
            " /usr/local/lib/python3.7/dist-packages/pandas/core/apply.py:305: RankWarning:Polyfit may be poorly conditioned\n",
            " /usr/local/lib/python3.7/dist-packages/pandas/core/apply.py:305: RankWarning:Polyfit may be poorly conditioned\n",
            " /usr/local/lib/python3.7/dist-packages/pandas/core/apply.py:305: RankWarning:Polyfit may be poorly conditioned\n",
            " /usr/local/lib/python3.7/dist-packages/pandas/core/apply.py:305: RankWarning:Polyfit may be poorly conditioned\n",
            " /usr/local/lib/python3.7/dist-packages/pandas/core/apply.py:305: RankWarning:Polyfit may be poorly conditioned\n",
            " /usr/local/lib/python3.7/dist-packages/pandas/core/apply.py:305: RankWarning:Polyfit may be poorly conditioned\n",
            " /usr/local/lib/python3.7/dist-packages/pandas/core/apply.py:305: RankWarning:Polyfit may be poorly conditioned\n",
            " /usr/local/lib/python3.7/dist-packages/pandas/core/apply.py:305: RankWarning:Polyfit may be poorly conditioned\n",
            " /usr/local/lib/python3.7/dist-packages/pandas/core/apply.py:305: RankWarning:Polyfit may be poorly conditioned\n",
            " /usr/local/lib/python3.7/dist-packages/pandas/core/apply.py:305: RankWarning:Polyfit may be poorly conditioned\n",
            " /usr/local/lib/python3.7/dist-packages/pandas/core/apply.py:305: RankWarning:Polyfit may be poorly conditioned\n",
            " /usr/local/lib/python3.7/dist-packages/pandas/core/apply.py:305: RankWarning:Polyfit may be poorly conditioned\n",
            " /usr/local/lib/python3.7/dist-packages/pandas/core/apply.py:305: RankWarning:Polyfit may be poorly conditioned\n",
            " /usr/local/lib/python3.7/dist-packages/pandas/core/apply.py:305: RankWarning:Polyfit may be poorly conditioned\n",
            " /usr/local/lib/python3.7/dist-packages/pandas/core/apply.py:305: RankWarning:Polyfit may be poorly conditioned\n",
            " /usr/local/lib/python3.7/dist-packages/pandas/core/apply.py:305: RankWarning:Polyfit may be poorly conditioned\n",
            " /usr/local/lib/python3.7/dist-packages/pandas/core/apply.py:305: RankWarning:Polyfit may be poorly conditioned\n",
            " /usr/local/lib/python3.7/dist-packages/pandas/core/apply.py:305: RankWarning:Polyfit may be poorly conditioned\n",
            " /usr/local/lib/python3.7/dist-packages/pandas/core/apply.py:305: RankWarning:Polyfit may be poorly conditioned\n",
            " /usr/local/lib/python3.7/dist-packages/pandas/core/apply.py:305: RankWarning:Polyfit may be poorly conditioned\n",
            " /usr/local/lib/python3.7/dist-packages/pandas/core/apply.py:305: RankWarning:Polyfit may be poorly conditioned\n",
            " /usr/local/lib/python3.7/dist-packages/pandas/core/apply.py:305: RankWarning:Polyfit may be poorly conditioned\n",
            " /usr/local/lib/python3.7/dist-packages/pandas/core/apply.py:305: RankWarning:Polyfit may be poorly conditioned\n",
            " /usr/local/lib/python3.7/dist-packages/pandas/core/apply.py:305: RankWarning:Polyfit may be poorly conditioned\n",
            " /usr/local/lib/python3.7/dist-packages/pandas/core/apply.py:305: RankWarning:Polyfit may be poorly conditioned\n",
            " /usr/local/lib/python3.7/dist-packages/pandas/core/apply.py:305: RankWarning:Polyfit may be poorly conditioned\n",
            " /usr/local/lib/python3.7/dist-packages/pandas/core/apply.py:305: RankWarning:Polyfit may be poorly conditioned\n",
            " /usr/local/lib/python3.7/dist-packages/pandas/core/apply.py:305: RankWarning:Polyfit may be poorly conditioned\n",
            " /usr/local/lib/python3.7/dist-packages/pandas/core/apply.py:305: RankWarning:Polyfit may be poorly conditioned\n",
            " /usr/local/lib/python3.7/dist-packages/pandas/core/apply.py:305: RankWarning:Polyfit may be poorly conditioned\n",
            " /usr/local/lib/python3.7/dist-packages/pandas/core/apply.py:305: RankWarning:Polyfit may be poorly conditioned\n",
            " /usr/local/lib/python3.7/dist-packages/pandas/core/apply.py:305: RankWarning:Polyfit may be poorly conditioned\n",
            " /usr/local/lib/python3.7/dist-packages/pandas/core/apply.py:305: RankWarning:Polyfit may be poorly conditioned\n",
            " /usr/local/lib/python3.7/dist-packages/pandas/core/apply.py:305: RankWarning:Polyfit may be poorly conditioned\n",
            " /usr/local/lib/python3.7/dist-packages/pandas/core/apply.py:305: RankWarning:Polyfit may be poorly conditioned\n",
            " /usr/local/lib/python3.7/dist-packages/pandas/core/apply.py:305: RankWarning:Polyfit may be poorly conditioned\n",
            " /usr/local/lib/python3.7/dist-packages/pandas/core/apply.py:305: RankWarning:Polyfit may be poorly conditioned\n",
            " /usr/local/lib/python3.7/dist-packages/pandas/core/apply.py:305: RankWarning:Polyfit may be poorly conditioned\n",
            " /usr/local/lib/python3.7/dist-packages/pandas/core/apply.py:305: RankWarning:Polyfit may be poorly conditioned\n",
            " /usr/local/lib/python3.7/dist-packages/pandas/core/apply.py:305: RankWarning:Polyfit may be poorly conditioned\n",
            " /usr/local/lib/python3.7/dist-packages/pandas/core/apply.py:305: RankWarning:Polyfit may be poorly conditioned\n",
            " /usr/local/lib/python3.7/dist-packages/pandas/core/apply.py:305: RankWarning:Polyfit may be poorly conditioned\n",
            " /usr/local/lib/python3.7/dist-packages/pandas/core/apply.py:305: RankWarning:Polyfit may be poorly conditioned\n",
            " /usr/local/lib/python3.7/dist-packages/pandas/core/apply.py:305: RankWarning:Polyfit may be poorly conditioned\n",
            " /usr/local/lib/python3.7/dist-packages/pandas/core/apply.py:305: RankWarning:Polyfit may be poorly conditioned\n",
            " /usr/local/lib/python3.7/dist-packages/pandas/core/apply.py:305: RankWarning:Polyfit may be poorly conditioned\n",
            " /usr/local/lib/python3.7/dist-packages/pandas/core/apply.py:305: RankWarning:Polyfit may be poorly conditioned\n",
            " /usr/local/lib/python3.7/dist-packages/pandas/core/apply.py:305: RankWarning:Polyfit may be poorly conditioned\n",
            " /usr/local/lib/python3.7/dist-packages/pandas/core/apply.py:305: RankWarning:Polyfit may be poorly conditioned\n",
            " /usr/local/lib/python3.7/dist-packages/pandas/core/apply.py:305: RankWarning:Polyfit may be poorly conditioned\n",
            " /usr/local/lib/python3.7/dist-packages/pandas/core/apply.py:305: RankWarning:Polyfit may be poorly conditioned\n",
            " /usr/local/lib/python3.7/dist-packages/pandas/core/apply.py:305: RankWarning:Polyfit may be poorly conditioned\n",
            " /usr/local/lib/python3.7/dist-packages/pandas/core/apply.py:305: RankWarning:Polyfit may be poorly conditioned\n",
            " /usr/local/lib/python3.7/dist-packages/pandas/core/apply.py:305: RankWarning:Polyfit may be poorly conditioned\n",
            " /usr/local/lib/python3.7/dist-packages/pandas/core/apply.py:305: RankWarning:Polyfit may be poorly conditioned\n",
            " /usr/local/lib/python3.7/dist-packages/pandas/core/apply.py:305: RankWarning:Polyfit may be poorly conditioned\n",
            " /usr/local/lib/python3.7/dist-packages/pandas/core/apply.py:305: RankWarning:Polyfit may be poorly conditioned\n",
            " /usr/local/lib/python3.7/dist-packages/pandas/core/apply.py:305: RankWarning:Polyfit may be poorly conditioned\n",
            " /usr/local/lib/python3.7/dist-packages/pandas/core/apply.py:305: RankWarning:Polyfit may be poorly conditioned\n",
            " /usr/local/lib/python3.7/dist-packages/pandas/core/apply.py:305: RankWarning:Polyfit may be poorly conditioned\n",
            " /usr/local/lib/python3.7/dist-packages/pandas/core/apply.py:305: RankWarning:Polyfit may be poorly conditioned\n",
            " /usr/local/lib/python3.7/dist-packages/pandas/core/apply.py:305: RankWarning:Polyfit may be poorly conditioned\n",
            " /usr/local/lib/python3.7/dist-packages/pandas/core/apply.py:305: RankWarning:Polyfit may be poorly conditioned\n",
            " /usr/local/lib/python3.7/dist-packages/pandas/core/apply.py:305: RankWarning:Polyfit may be poorly conditioned\n",
            " /usr/local/lib/python3.7/dist-packages/pandas/core/apply.py:305: RankWarning:Polyfit may be poorly conditioned\n",
            " /usr/local/lib/python3.7/dist-packages/pandas/core/apply.py:305: RankWarning:Polyfit may be poorly conditioned\n",
            " /usr/local/lib/python3.7/dist-packages/pandas/core/apply.py:305: RankWarning:Polyfit may be poorly conditioned\n",
            " /usr/local/lib/python3.7/dist-packages/pandas/core/apply.py:305: RankWarning:Polyfit may be poorly conditioned\n",
            " /usr/local/lib/python3.7/dist-packages/pandas/core/apply.py:305: RankWarning:Polyfit may be poorly conditioned\n",
            " /usr/local/lib/python3.7/dist-packages/pandas/core/apply.py:305: RankWarning:Polyfit may be poorly conditioned\n",
            " /usr/local/lib/python3.7/dist-packages/pandas/core/apply.py:305: RankWarning:Polyfit may be poorly conditioned\n",
            " /usr/local/lib/python3.7/dist-packages/pandas/core/apply.py:305: RankWarning:Polyfit may be poorly conditioned\n",
            " /usr/local/lib/python3.7/dist-packages/pandas/core/apply.py:305: RankWarning:Polyfit may be poorly conditioned\n",
            " /usr/local/lib/python3.7/dist-packages/pandas/core/apply.py:305: RankWarning:Polyfit may be poorly conditioned\n",
            " /usr/local/lib/python3.7/dist-packages/pandas/core/apply.py:305: RankWarning:Polyfit may be poorly conditioned\n",
            " /usr/local/lib/python3.7/dist-packages/pandas/core/apply.py:305: RankWarning:Polyfit may be poorly conditioned\n",
            " /usr/local/lib/python3.7/dist-packages/pandas/core/apply.py:305: RankWarning:Polyfit may be poorly conditioned\n",
            " /usr/local/lib/python3.7/dist-packages/pandas/core/apply.py:305: RankWarning:Polyfit may be poorly conditioned\n",
            " /usr/local/lib/python3.7/dist-packages/pandas/core/apply.py:305: RankWarning:Polyfit may be poorly conditioned\n",
            " /usr/local/lib/python3.7/dist-packages/pandas/core/apply.py:305: RankWarning:Polyfit may be poorly conditioned\n",
            " /usr/local/lib/python3.7/dist-packages/pandas/core/apply.py:305: RankWarning:Polyfit may be poorly conditioned\n",
            " /usr/local/lib/python3.7/dist-packages/pandas/core/apply.py:305: RankWarning:Polyfit may be poorly conditioned\n",
            " /usr/local/lib/python3.7/dist-packages/pandas/core/apply.py:305: RankWarning:Polyfit may be poorly conditioned\n",
            " /usr/local/lib/python3.7/dist-packages/pandas/core/apply.py:305: RankWarning:Polyfit may be poorly conditioned\n",
            " /usr/local/lib/python3.7/dist-packages/pandas/core/apply.py:305: RankWarning:Polyfit may be poorly conditioned\n",
            " /usr/local/lib/python3.7/dist-packages/pandas/core/apply.py:305: RankWarning:Polyfit may be poorly conditioned\n",
            " /usr/local/lib/python3.7/dist-packages/pandas/core/apply.py:305: RankWarning:Polyfit may be poorly conditioned\n",
            " /usr/local/lib/python3.7/dist-packages/pandas/core/apply.py:305: RankWarning:Polyfit may be poorly conditioned\n",
            " /usr/local/lib/python3.7/dist-packages/pandas/core/apply.py:305: RankWarning:Polyfit may be poorly conditioned\n",
            " /usr/local/lib/python3.7/dist-packages/pandas/core/apply.py:305: RankWarning:Polyfit may be poorly conditioned\n",
            " /usr/local/lib/python3.7/dist-packages/pandas/core/apply.py:305: RankWarning:Polyfit may be poorly conditioned\n",
            " /usr/local/lib/python3.7/dist-packages/pandas/core/apply.py:305: RankWarning:Polyfit may be poorly conditioned\n",
            " /usr/local/lib/python3.7/dist-packages/pandas/core/apply.py:305: RankWarning:Polyfit may be poorly conditioned\n",
            " /usr/local/lib/python3.7/dist-packages/pandas/core/apply.py:305: RankWarning:Polyfit may be poorly conditioned\n",
            " /usr/local/lib/python3.7/dist-packages/pandas/core/apply.py:305: RankWarning:Polyfit may be poorly conditioned\n",
            " /usr/local/lib/python3.7/dist-packages/pandas/core/apply.py:305: RankWarning:Polyfit may be poorly conditioned\n",
            " /usr/local/lib/python3.7/dist-packages/pandas/core/apply.py:305: RankWarning:Polyfit may be poorly conditioned\n",
            " /usr/local/lib/python3.7/dist-packages/pandas/core/apply.py:305: RankWarning:Polyfit may be poorly conditioned\n",
            " /usr/local/lib/python3.7/dist-packages/pandas/core/apply.py:305: RankWarning:Polyfit may be poorly conditioned\n",
            " /usr/local/lib/python3.7/dist-packages/pandas/core/apply.py:305: RankWarning:Polyfit may be poorly conditioned\n",
            " /usr/local/lib/python3.7/dist-packages/pandas/core/apply.py:305: RankWarning:Polyfit may be poorly conditioned\n",
            " /usr/local/lib/python3.7/dist-packages/pandas/core/apply.py:305: RankWarning:Polyfit may be poorly conditioned\n",
            " /usr/local/lib/python3.7/dist-packages/pandas/core/apply.py:305: RankWarning:Polyfit may be poorly conditioned\n",
            " /usr/local/lib/python3.7/dist-packages/pandas/core/apply.py:305: RankWarning:Polyfit may be poorly conditioned\n",
            " /usr/local/lib/python3.7/dist-packages/pandas/core/apply.py:305: RankWarning:Polyfit may be poorly conditioned\n",
            " /usr/local/lib/python3.7/dist-packages/pandas/core/apply.py:305: RankWarning:Polyfit may be poorly conditioned\n",
            " /usr/local/lib/python3.7/dist-packages/pandas/core/apply.py:305: RankWarning:Polyfit may be poorly conditioned\n",
            " /usr/local/lib/python3.7/dist-packages/pandas/core/apply.py:305: RankWarning:Polyfit may be poorly conditioned\n",
            " /usr/local/lib/python3.7/dist-packages/pandas/core/apply.py:305: RankWarning:Polyfit may be poorly conditioned\n",
            " /usr/local/lib/python3.7/dist-packages/pandas/core/apply.py:305: RankWarning:Polyfit may be poorly conditioned\n",
            " /usr/local/lib/python3.7/dist-packages/pandas/core/apply.py:305: RankWarning:Polyfit may be poorly conditioned\n",
            " /usr/local/lib/python3.7/dist-packages/pandas/core/apply.py:305: RankWarning:Polyfit may be poorly conditioned\n",
            " /usr/local/lib/python3.7/dist-packages/pandas/core/apply.py:305: RankWarning:Polyfit may be poorly conditioned\n",
            " /usr/local/lib/python3.7/dist-packages/pandas/core/apply.py:305: RankWarning:Polyfit may be poorly conditioned\n",
            " /usr/local/lib/python3.7/dist-packages/pandas/core/apply.py:305: RankWarning:Polyfit may be poorly conditioned\n",
            " /usr/local/lib/python3.7/dist-packages/pandas/core/apply.py:305: RankWarning:Polyfit may be poorly conditioned\n",
            " /usr/local/lib/python3.7/dist-packages/pandas/core/apply.py:305: RankWarning:Polyfit may be poorly conditioned\n",
            " /usr/local/lib/python3.7/dist-packages/pandas/core/apply.py:305: RankWarning:Polyfit may be poorly conditioned\n",
            " /usr/local/lib/python3.7/dist-packages/pandas/core/apply.py:305: RankWarning:Polyfit may be poorly conditioned\n",
            " /usr/local/lib/python3.7/dist-packages/pandas/core/apply.py:305: RankWarning:Polyfit may be poorly conditioned\n",
            " /usr/local/lib/python3.7/dist-packages/pandas/core/apply.py:305: RankWarning:Polyfit may be poorly conditioned\n",
            " /usr/local/lib/python3.7/dist-packages/pandas/core/apply.py:305: RankWarning:Polyfit may be poorly conditioned\n",
            " /usr/local/lib/python3.7/dist-packages/pandas/core/apply.py:305: RankWarning:Polyfit may be poorly conditioned\n",
            " /usr/local/lib/python3.7/dist-packages/pandas/core/apply.py:305: RankWarning:Polyfit may be poorly conditioned\n",
            " /usr/local/lib/python3.7/dist-packages/pandas/core/apply.py:305: RankWarning:Polyfit may be poorly conditioned\n",
            " /usr/local/lib/python3.7/dist-packages/pandas/core/apply.py:305: RankWarning:Polyfit may be poorly conditioned\n",
            " /usr/local/lib/python3.7/dist-packages/pandas/core/apply.py:305: RankWarning:Polyfit may be poorly conditioned\n",
            " /usr/local/lib/python3.7/dist-packages/pandas/core/apply.py:305: RankWarning:Polyfit may be poorly conditioned\n",
            " /usr/local/lib/python3.7/dist-packages/pandas/core/apply.py:305: RankWarning:Polyfit may be poorly conditioned\n",
            " /usr/local/lib/python3.7/dist-packages/pandas/core/apply.py:305: RankWarning:Polyfit may be poorly conditioned\n",
            " /usr/local/lib/python3.7/dist-packages/pandas/core/apply.py:305: RankWarning:Polyfit may be poorly conditioned\n",
            " /usr/local/lib/python3.7/dist-packages/pandas/core/apply.py:305: RankWarning:Polyfit may be poorly conditioned\n",
            " /usr/local/lib/python3.7/dist-packages/pandas/core/apply.py:305: RankWarning:Polyfit may be poorly conditioned\n",
            " /usr/local/lib/python3.7/dist-packages/pandas/core/apply.py:305: RankWarning:Polyfit may be poorly conditioned\n",
            " /usr/local/lib/python3.7/dist-packages/pandas/core/apply.py:305: RankWarning:Polyfit may be poorly conditioned\n",
            " /usr/local/lib/python3.7/dist-packages/pandas/core/apply.py:305: RankWarning:Polyfit may be poorly conditioned\n",
            " /usr/local/lib/python3.7/dist-packages/pandas/core/apply.py:305: RankWarning:Polyfit may be poorly conditioned\n",
            " /usr/local/lib/python3.7/dist-packages/pandas/core/apply.py:305: RankWarning:Polyfit may be poorly conditioned\n",
            " /usr/local/lib/python3.7/dist-packages/pandas/core/apply.py:305: RankWarning:Polyfit may be poorly conditioned\n",
            " /usr/local/lib/python3.7/dist-packages/pandas/core/apply.py:305: RankWarning:Polyfit may be poorly conditioned\n",
            " /usr/local/lib/python3.7/dist-packages/pandas/core/apply.py:305: RankWarning:Polyfit may be poorly conditioned\n",
            " /usr/local/lib/python3.7/dist-packages/pandas/core/apply.py:305: RankWarning:Polyfit may be poorly conditioned\n",
            " /usr/local/lib/python3.7/dist-packages/pandas/core/apply.py:305: RankWarning:Polyfit may be poorly conditioned\n",
            " /usr/local/lib/python3.7/dist-packages/pandas/core/apply.py:305: RankWarning:Polyfit may be poorly conditioned\n",
            " /usr/local/lib/python3.7/dist-packages/pandas/core/apply.py:305: RankWarning:Polyfit may be poorly conditioned\n",
            " /usr/local/lib/python3.7/dist-packages/pandas/core/apply.py:305: RankWarning:Polyfit may be poorly conditioned\n",
            " /usr/local/lib/python3.7/dist-packages/pandas/core/apply.py:305: RankWarning:Polyfit may be poorly conditioned\n",
            " /usr/local/lib/python3.7/dist-packages/pandas/core/apply.py:305: RankWarning:Polyfit may be poorly conditioned\n",
            " /usr/local/lib/python3.7/dist-packages/pandas/core/apply.py:305: RankWarning:Polyfit may be poorly conditioned\n",
            " /usr/local/lib/python3.7/dist-packages/pandas/core/apply.py:305: RankWarning:Polyfit may be poorly conditioned\n",
            " /usr/local/lib/python3.7/dist-packages/pandas/core/apply.py:305: RankWarning:Polyfit may be poorly conditioned\n",
            " /usr/local/lib/python3.7/dist-packages/pandas/core/apply.py:305: RankWarning:Polyfit may be poorly conditioned\n",
            " /usr/local/lib/python3.7/dist-packages/pandas/core/apply.py:305: RankWarning:Polyfit may be poorly conditioned\n",
            " /usr/local/lib/python3.7/dist-packages/pandas/core/apply.py:305: RankWarning:Polyfit may be poorly conditioned\n",
            " /usr/local/lib/python3.7/dist-packages/pandas/core/apply.py:305: RankWarning:Polyfit may be poorly conditioned\n",
            " /usr/local/lib/python3.7/dist-packages/pandas/core/apply.py:305: RankWarning:Polyfit may be poorly conditioned\n",
            " /usr/local/lib/python3.7/dist-packages/pandas/core/apply.py:305: RankWarning:Polyfit may be poorly conditioned\n",
            " /usr/local/lib/python3.7/dist-packages/pandas/core/apply.py:305: RankWarning:Polyfit may be poorly conditioned\n",
            " /usr/local/lib/python3.7/dist-packages/pandas/core/apply.py:305: RankWarning:Polyfit may be poorly conditioned\n",
            " /usr/local/lib/python3.7/dist-packages/pandas/core/apply.py:305: RankWarning:Polyfit may be poorly conditioned\n",
            " /usr/local/lib/python3.7/dist-packages/pandas/core/apply.py:305: RankWarning:Polyfit may be poorly conditioned\n",
            " /usr/local/lib/python3.7/dist-packages/pandas/core/apply.py:305: RankWarning:Polyfit may be poorly conditioned\n",
            " /usr/local/lib/python3.7/dist-packages/pandas/core/apply.py:305: RankWarning:Polyfit may be poorly conditioned\n",
            " /usr/local/lib/python3.7/dist-packages/pandas/core/apply.py:305: RankWarning:Polyfit may be poorly conditioned\n",
            " /usr/local/lib/python3.7/dist-packages/pandas/core/apply.py:305: RankWarning:Polyfit may be poorly conditioned\n",
            " /usr/local/lib/python3.7/dist-packages/pandas/core/apply.py:305: RankWarning:Polyfit may be poorly conditioned\n",
            " /usr/local/lib/python3.7/dist-packages/pandas/core/apply.py:305: RankWarning:Polyfit may be poorly conditioned\n",
            " /usr/local/lib/python3.7/dist-packages/pandas/core/apply.py:305: RankWarning:Polyfit may be poorly conditioned\n",
            " /usr/local/lib/python3.7/dist-packages/pandas/core/apply.py:305: RankWarning:Polyfit may be poorly conditioned\n",
            " /usr/local/lib/python3.7/dist-packages/pandas/core/apply.py:305: RankWarning:Polyfit may be poorly conditioned\n",
            " /usr/local/lib/python3.7/dist-packages/pandas/core/apply.py:305: RankWarning:Polyfit may be poorly conditioned\n",
            " /usr/local/lib/python3.7/dist-packages/pandas/core/apply.py:305: RankWarning:Polyfit may be poorly conditioned\n",
            " /usr/local/lib/python3.7/dist-packages/pandas/core/apply.py:305: RankWarning:Polyfit may be poorly conditioned\n",
            " /usr/local/lib/python3.7/dist-packages/pandas/core/apply.py:305: RankWarning:Polyfit may be poorly conditioned\n",
            " /usr/local/lib/python3.7/dist-packages/pandas/core/apply.py:305: RankWarning:Polyfit may be poorly conditioned\n",
            " /usr/local/lib/python3.7/dist-packages/pandas/core/apply.py:305: RankWarning:Polyfit may be poorly conditioned\n",
            " /usr/local/lib/python3.7/dist-packages/pandas/core/apply.py:305: RankWarning:Polyfit may be poorly conditioned\n",
            " /usr/local/lib/python3.7/dist-packages/pandas/core/apply.py:305: RankWarning:Polyfit may be poorly conditioned\n",
            " /usr/local/lib/python3.7/dist-packages/pandas/core/apply.py:305: RankWarning:Polyfit may be poorly conditioned\n",
            " /usr/local/lib/python3.7/dist-packages/pandas/core/apply.py:305: RankWarning:Polyfit may be poorly conditioned\n",
            " /usr/local/lib/python3.7/dist-packages/pandas/core/apply.py:305: RankWarning:Polyfit may be poorly conditioned\n",
            " /usr/local/lib/python3.7/dist-packages/pandas/core/apply.py:305: RankWarning:Polyfit may be poorly conditioned\n",
            " /usr/local/lib/python3.7/dist-packages/pandas/core/apply.py:305: RankWarning:Polyfit may be poorly conditioned\n",
            " /usr/local/lib/python3.7/dist-packages/pandas/core/apply.py:305: RankWarning:Polyfit may be poorly conditioned\n",
            " /usr/local/lib/python3.7/dist-packages/pandas/core/apply.py:305: RankWarning:Polyfit may be poorly conditioned\n",
            " /usr/local/lib/python3.7/dist-packages/pandas/core/apply.py:305: RankWarning:Polyfit may be poorly conditioned\n",
            " /usr/local/lib/python3.7/dist-packages/pandas/core/apply.py:305: RankWarning:Polyfit may be poorly conditioned\n",
            " /usr/local/lib/python3.7/dist-packages/pandas/core/apply.py:305: RankWarning:Polyfit may be poorly conditioned\n",
            " /usr/local/lib/python3.7/dist-packages/pandas/core/apply.py:305: RankWarning:Polyfit may be poorly conditioned\n",
            " /usr/local/lib/python3.7/dist-packages/pandas/core/apply.py:305: RankWarning:Polyfit may be poorly conditioned\n",
            " /usr/local/lib/python3.7/dist-packages/pandas/core/apply.py:305: RankWarning:Polyfit may be poorly conditioned\n",
            " /usr/local/lib/python3.7/dist-packages/pandas/core/apply.py:305: RankWarning:Polyfit may be poorly conditioned\n",
            " /usr/local/lib/python3.7/dist-packages/pandas/core/apply.py:305: RankWarning:Polyfit may be poorly conditioned\n",
            " /usr/local/lib/python3.7/dist-packages/pandas/core/apply.py:305: RankWarning:Polyfit may be poorly conditioned\n",
            " /usr/local/lib/python3.7/dist-packages/pandas/core/apply.py:305: RankWarning:Polyfit may be poorly conditioned\n",
            " /usr/local/lib/python3.7/dist-packages/pandas/core/apply.py:305: RankWarning:Polyfit may be poorly conditioned\n",
            " /usr/local/lib/python3.7/dist-packages/pandas/core/apply.py:305: RankWarning:Polyfit may be poorly conditioned\n",
            " /usr/local/lib/python3.7/dist-packages/pandas/core/apply.py:305: RankWarning:Polyfit may be poorly conditioned\n",
            " /usr/local/lib/python3.7/dist-packages/pandas/core/apply.py:305: RankWarning:Polyfit may be poorly conditioned\n",
            " /usr/local/lib/python3.7/dist-packages/pandas/core/apply.py:305: RankWarning:Polyfit may be poorly conditioned\n"
          ]
        }
      ]
    },
    {
      "cell_type": "code",
      "execution_count": null,
      "metadata": {
        "id": "kO1ZgDAc9NNn"
      },
      "outputs": [],
      "source": [
        "def apply_poly(poly):\n",
        "  return [poly(i) for i in np.arange(0, 2.56, 0.02)]"
      ]
    },
    {
      "cell_type": "code",
      "execution_count": null,
      "metadata": {
        "id": "Wn_4o_GU9QNH"
      },
      "outputs": [],
      "source": [
        "pol_estimations = pd.Series(df_avg_poly).map(apply_poly)"
      ]
    },
    {
      "cell_type": "code",
      "execution_count": null,
      "metadata": {
        "colab": {
          "base_uri": "https://localhost:8080/",
          "height": 717
        },
        "id": "Pes596jn5Ope",
        "outputId": "d735cfbd-564a-4e2b-854b-6d48bc2bfa81"
      },
      "outputs": [
        {
          "output_type": "display_data",
          "data": {
            "text/html": [
              "<html>\n",
              "<head><meta charset=\"utf-8\" /></head>\n",
              "<body>\n",
              "    <div>\n",
              "            <script src=\"https://cdnjs.cloudflare.com/ajax/libs/mathjax/2.7.5/MathJax.js?config=TeX-AMS-MML_SVG\"></script><script type=\"text/javascript\">if (window.MathJax) {MathJax.Hub.Config({SVG: {font: \"STIX-Web\"}});}</script>\n",
              "                <script type=\"text/javascript\">window.PlotlyConfig = {MathJaxConfig: 'local'};</script>\n",
              "        <script src=\"https://cdn.plot.ly/plotly-latest.min.js\"></script>    \n",
              "            <div id=\"deb41b35-d85a-49b5-9740-edf7b1bfcdad\" class=\"plotly-graph-div\" style=\"height:700px; width:100%;\"></div>\n",
              "            <script type=\"text/javascript\">\n",
              "                \n",
              "                    window.PLOTLYENV=window.PLOTLYENV || {};\n",
              "                    \n",
              "                if (document.getElementById(\"deb41b35-d85a-49b5-9740-edf7b1bfcdad\")) {\n",
              "                    Plotly.newPlot(\n",
              "                        'deb41b35-d85a-49b5-9740-edf7b1bfcdad',\n",
              "                        [{\"type\": \"scatter\", \"x\": [0.0, 0.02, 0.04, 0.06, 0.08, 0.1, 0.12, 0.14, 0.16, 0.18, 0.2, 0.22, 0.24, 0.26, 0.28, 0.3, 0.32, 0.34, 0.36, 0.38, 0.4, 0.42, 0.44, 0.46, 0.48, 0.5, 0.52, 0.54, 0.56, 0.58, 0.6, 0.62, 0.64, 0.66, 0.68, 0.7000000000000001, 0.72, 0.74, 0.76, 0.78, 0.8, 0.8200000000000001, 0.84, 0.86, 0.88, 0.9, 0.92, 0.9400000000000001, 0.96, 0.98, 1.0, 1.02, 1.04, 1.06, 1.08, 1.1, 1.12, 1.1400000000000001, 1.16, 1.18, 1.2, 1.22, 1.24, 1.26, 1.28, 1.3, 1.32, 1.34, 1.36, 1.3800000000000001, 1.4000000000000001, 1.42, 1.44, 1.46, 1.48, 1.5, 1.52, 1.54, 1.56, 1.58, 1.6, 1.62, 1.6400000000000001, 1.6600000000000001, 1.68, 1.7, 1.72, 1.74, 1.76, 1.78, 1.8, 1.82, 1.84, 1.86, 1.8800000000000001, 1.9000000000000001, 1.92, 1.94, 1.96, 1.98, 2.0, 2.02, 2.04, 2.06, 2.08, 2.1, 2.12, 2.14, 2.16, 2.18, 2.2, 2.22, 2.24, 2.2600000000000002, 2.2800000000000002, 2.3000000000000003, 2.32, 2.34, 2.36, 2.38, 2.4, 2.42, 2.44, 2.46, 2.48, 2.5, 2.52, 2.54], \"xaxis\": \"x\", \"y\": [0.13090069127777776, 0.13002365222222223, 0.13228040577777778, 0.1308116, 0.12918710033333333, 0.1314230206666667, 0.12850395922222224, 0.12797190833333333, 0.1282960762222222, 0.12563577211111113, 0.1269794738888889, 0.12552344077777777, 0.12499173355555554, 0.12481238755555552, 0.12252938144444442, 0.12386151400000002, 0.1223312558888889, 0.12172776322222226, 0.12257004988888892, 0.12123710287777774, 0.12127744257777777, 0.11997912910000001, 0.12143996313333336, 0.1231033812888889, 0.12081431333333335, 0.12029076311111113, 0.11938984155555558, 0.11824536144444446, 0.11818377455555555, 0.11824883355555557, 0.1184513981111111, 0.11678313624444445, 0.1159560331111111, 0.11701852866666668, 0.11821361700000001, 0.11968528722222221, 0.12046191789999999, 0.12078445388888892, 0.12087966722222225, 0.1202354646666667, 0.1182660461111111, 0.11589105866666667, 0.11504748277777781, 0.11393994433333332, 0.11310190696666668, 0.115208573, 0.11659851388888891, 0.11550088377777776, 0.11504247678444443, 0.11471696528888889, 0.114036789, 0.11337118233333333, 0.11198287522222222, 0.1120301931111111, 0.11316901411111112, 0.11249378166666665, 0.11191360433333333, 0.11274566833333331, 0.11258417933333331, 0.11180151577777776, 0.11163009926666666, 0.11128280756666668, 0.110846204, 0.11013443055555555, 0.110872579, 0.11299169777777779, 0.11289199688888887, 0.11311036877777776, 0.113928156, 0.11252424733333331, 0.11162611433333332, 0.1115668695, 0.11201191334777778, 0.11242004237777777, 0.11188801703333334, 0.11235208231111111, 0.11159128882222223, 0.11010332680000001, 0.11115759266666665, 0.11203206888888888, 0.1123793308, 0.11263381786133334, 0.11131158754444444, 0.11073122818888888, 0.11105064372222223, 0.11009153833333332, 0.1099924795111111, 0.11142075844444446, 0.11161442086666667, 0.11093556488888888, 0.11078966811111109, 0.11166241977777777, 0.11270105622222222, 0.11098304744444445, 0.10856070616666666, 0.10942801245555556, 0.11088354688888892, 0.11032844407777777, 0.10996748399222221, 0.11064559866666665, 0.11149692677777777, 0.11240266365555554, 0.11195110184444441, 0.11031490869999999, 0.10951505861888888, 0.10936814600555557, 0.10989412066666666, 0.11042873612222223, 0.11001059841555554, 0.1096826408222222, 0.10957363333333334, 0.11031622276666665, 0.11143868177777777, 0.11133418766666667, 0.11111902455555553, 0.11097300823333335, 0.11128024888888888, 0.11208608661000002, 0.11146837434444443, 0.11051982482222224, 0.10952493434222225, 0.10853530638888889, 0.10992636680000001, 0.11210228116666666, 0.11368778117777777, 0.11511372387777777, 0.11466225385222223, 0.11383804755555553], \"yaxis\": \"y\"}, {\"type\": \"scatter\", \"x\": [0.0, 0.02, 0.04, 0.06, 0.08, 0.1, 0.12, 0.14, 0.16, 0.18, 0.2, 0.22, 0.24, 0.26, 0.28, 0.3, 0.32, 0.34, 0.36, 0.38, 0.4, 0.42, 0.44, 0.46, 0.48, 0.5, 0.52, 0.54, 0.56, 0.58, 0.6, 0.62, 0.64, 0.66, 0.68, 0.7000000000000001, 0.72, 0.74, 0.76, 0.78, 0.8, 0.8200000000000001, 0.84, 0.86, 0.88, 0.9, 0.92, 0.9400000000000001, 0.96, 0.98, 1.0, 1.02, 1.04, 1.06, 1.08, 1.1, 1.12, 1.1400000000000001, 1.16, 1.18, 1.2, 1.22, 1.24, 1.26, 1.28, 1.3, 1.32, 1.34, 1.36, 1.3800000000000001, 1.4000000000000001, 1.42, 1.44, 1.46, 1.48, 1.5, 1.52, 1.54, 1.56, 1.58, 1.6, 1.62, 1.6400000000000001, 1.6600000000000001, 1.68, 1.7, 1.72, 1.74, 1.76, 1.78, 1.8, 1.82, 1.84, 1.86, 1.8800000000000001, 1.9000000000000001, 1.92, 1.94, 1.96, 1.98, 2.0, 2.02, 2.04, 2.06, 2.08, 2.1, 2.12, 2.14, 2.16, 2.18, 2.2, 2.22, 2.24, 2.2600000000000002, 2.2800000000000002, 2.3000000000000003, 2.32, 2.34, 2.36, 2.38, 2.4, 2.42, 2.44, 2.46, 2.48, 2.5, 2.52, 2.54], \"xaxis\": \"x\", \"y\": [0.13062601011391914, 0.13112301920834715, 0.1310252649131655, 0.13074222715046202, 0.13036808572483513, 0.12988889119960692, 0.1292816206374316, 0.12855027490577356, 0.1277288405436892, 0.12686987993361815, 0.12602974939124642, 0.12525617905620468, 0.12458054007862138, 0.12401506414155115, 0.12355416880622742, 0.12317857215467252, 0.12286081969966844, 0.12257102466698762, 0.12228191764750088, 0.121972629996701, 0.1216309438110663, 0.12125399896887305, 0.12084764024735381, 0.12042471221151586, 0.12000267142565534, 0.11960089424289261, 0.11923802597645161, 0.11892965624588242, 0.11868652769636899, 0.11851340166424948, 0.11840862337104376, 0.11836435744432197, 0.1183674064527637, 0.11840048320981136, 0.11844378262531742, 0.11847669018798324, 0.11847947000434066, 0.11843479312409105, 0.11832899362669548, 0.11815297244630046, 0.117902703979362, 0.11757933529444424, 0.1171888997212077, 0.11674169375914437, 0.11625138726429018, 0.11573395071483993, 0.1152064901152433, 0.11468607950261589, 0.11418867435665811, 0.11372817695766939, 0.11331570855964093, 0.1129591244449039, 0.11266278802136312, 0.11242760042099342, 0.11225126413703332, 0.1121287440102075, 0.11205287743254769, 0.11201507726870921, 0.11200606955232138, 0.11201660775620312, 0.11203811202263675, 0.11206318958359784, 0.11208600572171218, 0.11210248617482793, 0.11211034832957774, 0.11210896986482428, 0.1120991178297299, 0.11208257391939497, 0.11206169042051836, 0.11203893019386382, 0.11201643054848268, 0.11199563192762794, 0.11197701588077819, 0.11195996743572531, 0.11194278198196853, 0.11192282038989652, 0.1118967882707122, 0.11186112628632998, 0.11181246674618414, 0.11174811053431491, 0.11166647517439342, 0.1115674668704813, 0.11145272475976159, 0.11132569791193549, 0.1111915334745708, 0.11105676503402608, 0.11092882229985555, 0.11081536644385369, 0.1107235333229885, 0.11065911885668184, 0.11062582660061117, 0.11062460542359581, 0.11065325919959819, 0.11070626523635703, 0.11077499734325005, 0.11084830830327522, 0.11091347744384905, 0.11095749909352101, 0.11096857350289227, 0.11093775392600647, 0.11086045061149637, 0.11073775240133266, 0.1105771627962584, 0.11039274521776972, 0.11020437493471263, 0.1100361352112223, 0.10991357026100818, 0.10986048811879831, 0.10989477905009519, 0.11002459824040228, 0.11024474265718569, 0.11053432065870651, 0.11085664124923578, 0.11116131731981731, 0.1113906404232923, 0.11148883864350945, 0.1114152165474465, 0.11115910891868544, 0.11075553382706185, 0.11029672470386125, 0.10993449835288668, 0.10986767343554163, 0.11030102359539991, 0.11137097311785261, 0.11301976785788213, 0.11480778533913331, 0.11565506672237931, 0.11350125584282872], \"yaxis\": \"y\"}],\n",
              "                        {\"height\": 700, \"template\": {\"data\": {\"bar\": [{\"error_x\": {\"color\": \"#2a3f5f\"}, \"error_y\": {\"color\": \"#2a3f5f\"}, \"marker\": {\"line\": {\"color\": \"#E5ECF6\", \"width\": 0.5}}, \"type\": \"bar\"}], \"barpolar\": [{\"marker\": {\"line\": {\"color\": \"#E5ECF6\", \"width\": 0.5}}, \"type\": \"barpolar\"}], \"carpet\": [{\"aaxis\": {\"endlinecolor\": \"#2a3f5f\", \"gridcolor\": \"white\", \"linecolor\": \"white\", \"minorgridcolor\": \"white\", \"startlinecolor\": \"#2a3f5f\"}, \"baxis\": {\"endlinecolor\": \"#2a3f5f\", \"gridcolor\": \"white\", \"linecolor\": \"white\", \"minorgridcolor\": \"white\", \"startlinecolor\": \"#2a3f5f\"}, \"type\": \"carpet\"}], \"choropleth\": [{\"colorbar\": {\"outlinewidth\": 0, \"ticks\": \"\"}, \"type\": \"choropleth\"}], \"contour\": [{\"colorbar\": {\"outlinewidth\": 0, \"ticks\": \"\"}, \"colorscale\": [[0.0, \"#0d0887\"], [0.1111111111111111, \"#46039f\"], [0.2222222222222222, \"#7201a8\"], [0.3333333333333333, \"#9c179e\"], [0.4444444444444444, \"#bd3786\"], [0.5555555555555556, \"#d8576b\"], [0.6666666666666666, \"#ed7953\"], [0.7777777777777778, \"#fb9f3a\"], [0.8888888888888888, \"#fdca26\"], [1.0, \"#f0f921\"]], \"type\": \"contour\"}], \"contourcarpet\": [{\"colorbar\": {\"outlinewidth\": 0, \"ticks\": \"\"}, \"type\": \"contourcarpet\"}], \"heatmap\": [{\"colorbar\": {\"outlinewidth\": 0, \"ticks\": \"\"}, \"colorscale\": [[0.0, \"#0d0887\"], [0.1111111111111111, \"#46039f\"], [0.2222222222222222, \"#7201a8\"], [0.3333333333333333, \"#9c179e\"], [0.4444444444444444, \"#bd3786\"], [0.5555555555555556, \"#d8576b\"], [0.6666666666666666, \"#ed7953\"], [0.7777777777777778, \"#fb9f3a\"], [0.8888888888888888, \"#fdca26\"], [1.0, \"#f0f921\"]], \"type\": \"heatmap\"}], \"heatmapgl\": [{\"colorbar\": {\"outlinewidth\": 0, \"ticks\": \"\"}, \"colorscale\": [[0.0, \"#0d0887\"], [0.1111111111111111, \"#46039f\"], [0.2222222222222222, \"#7201a8\"], [0.3333333333333333, \"#9c179e\"], [0.4444444444444444, \"#bd3786\"], [0.5555555555555556, \"#d8576b\"], [0.6666666666666666, \"#ed7953\"], [0.7777777777777778, \"#fb9f3a\"], [0.8888888888888888, \"#fdca26\"], [1.0, \"#f0f921\"]], \"type\": \"heatmapgl\"}], \"histogram\": [{\"marker\": {\"colorbar\": {\"outlinewidth\": 0, \"ticks\": \"\"}}, \"type\": \"histogram\"}], \"histogram2d\": [{\"colorbar\": {\"outlinewidth\": 0, \"ticks\": \"\"}, \"colorscale\": [[0.0, \"#0d0887\"], [0.1111111111111111, \"#46039f\"], [0.2222222222222222, \"#7201a8\"], [0.3333333333333333, \"#9c179e\"], [0.4444444444444444, \"#bd3786\"], [0.5555555555555556, \"#d8576b\"], [0.6666666666666666, \"#ed7953\"], [0.7777777777777778, \"#fb9f3a\"], [0.8888888888888888, \"#fdca26\"], [1.0, \"#f0f921\"]], \"type\": \"histogram2d\"}], \"histogram2dcontour\": [{\"colorbar\": {\"outlinewidth\": 0, \"ticks\": \"\"}, \"colorscale\": [[0.0, \"#0d0887\"], [0.1111111111111111, \"#46039f\"], [0.2222222222222222, \"#7201a8\"], [0.3333333333333333, \"#9c179e\"], [0.4444444444444444, \"#bd3786\"], [0.5555555555555556, \"#d8576b\"], [0.6666666666666666, \"#ed7953\"], [0.7777777777777778, \"#fb9f3a\"], [0.8888888888888888, \"#fdca26\"], [1.0, \"#f0f921\"]], \"type\": \"histogram2dcontour\"}], \"mesh3d\": [{\"colorbar\": {\"outlinewidth\": 0, \"ticks\": \"\"}, \"type\": \"mesh3d\"}], \"parcoords\": [{\"line\": {\"colorbar\": {\"outlinewidth\": 0, \"ticks\": \"\"}}, \"type\": \"parcoords\"}], \"pie\": [{\"automargin\": true, \"type\": \"pie\"}], \"scatter\": [{\"marker\": {\"colorbar\": {\"outlinewidth\": 0, \"ticks\": \"\"}}, \"type\": \"scatter\"}], \"scatter3d\": [{\"line\": {\"colorbar\": {\"outlinewidth\": 0, \"ticks\": \"\"}}, \"marker\": {\"colorbar\": {\"outlinewidth\": 0, \"ticks\": \"\"}}, \"type\": \"scatter3d\"}], \"scattercarpet\": [{\"marker\": {\"colorbar\": {\"outlinewidth\": 0, \"ticks\": \"\"}}, \"type\": \"scattercarpet\"}], \"scattergeo\": [{\"marker\": {\"colorbar\": {\"outlinewidth\": 0, \"ticks\": \"\"}}, \"type\": \"scattergeo\"}], \"scattergl\": [{\"marker\": {\"colorbar\": {\"outlinewidth\": 0, \"ticks\": \"\"}}, \"type\": \"scattergl\"}], \"scattermapbox\": [{\"marker\": {\"colorbar\": {\"outlinewidth\": 0, \"ticks\": \"\"}}, \"type\": \"scattermapbox\"}], \"scatterpolar\": [{\"marker\": {\"colorbar\": {\"outlinewidth\": 0, \"ticks\": \"\"}}, \"type\": \"scatterpolar\"}], \"scatterpolargl\": [{\"marker\": {\"colorbar\": {\"outlinewidth\": 0, \"ticks\": \"\"}}, \"type\": \"scatterpolargl\"}], \"scatterternary\": [{\"marker\": {\"colorbar\": {\"outlinewidth\": 0, \"ticks\": \"\"}}, \"type\": \"scatterternary\"}], \"surface\": [{\"colorbar\": {\"outlinewidth\": 0, \"ticks\": \"\"}, \"colorscale\": [[0.0, \"#0d0887\"], [0.1111111111111111, \"#46039f\"], [0.2222222222222222, \"#7201a8\"], [0.3333333333333333, \"#9c179e\"], [0.4444444444444444, \"#bd3786\"], [0.5555555555555556, \"#d8576b\"], [0.6666666666666666, \"#ed7953\"], [0.7777777777777778, \"#fb9f3a\"], [0.8888888888888888, \"#fdca26\"], [1.0, \"#f0f921\"]], \"type\": \"surface\"}], \"table\": [{\"cells\": {\"fill\": {\"color\": \"#EBF0F8\"}, \"line\": {\"color\": \"white\"}}, \"header\": {\"fill\": {\"color\": \"#C8D4E3\"}, \"line\": {\"color\": \"white\"}}, \"type\": \"table\"}]}, \"layout\": {\"annotationdefaults\": {\"arrowcolor\": \"#2a3f5f\", \"arrowhead\": 0, \"arrowwidth\": 1}, \"coloraxis\": {\"colorbar\": {\"outlinewidth\": 0, \"ticks\": \"\"}}, \"colorscale\": {\"diverging\": [[0, \"#8e0152\"], [0.1, \"#c51b7d\"], [0.2, \"#de77ae\"], [0.3, \"#f1b6da\"], [0.4, \"#fde0ef\"], [0.5, \"#f7f7f7\"], [0.6, \"#e6f5d0\"], [0.7, \"#b8e186\"], [0.8, \"#7fbc41\"], [0.9, \"#4d9221\"], [1, \"#276419\"]], \"sequential\": [[0.0, \"#0d0887\"], [0.1111111111111111, \"#46039f\"], [0.2222222222222222, \"#7201a8\"], [0.3333333333333333, \"#9c179e\"], [0.4444444444444444, \"#bd3786\"], [0.5555555555555556, \"#d8576b\"], [0.6666666666666666, \"#ed7953\"], [0.7777777777777778, \"#fb9f3a\"], [0.8888888888888888, \"#fdca26\"], [1.0, \"#f0f921\"]], \"sequentialminus\": [[0.0, \"#0d0887\"], [0.1111111111111111, \"#46039f\"], [0.2222222222222222, \"#7201a8\"], [0.3333333333333333, \"#9c179e\"], [0.4444444444444444, \"#bd3786\"], [0.5555555555555556, \"#d8576b\"], [0.6666666666666666, \"#ed7953\"], [0.7777777777777778, \"#fb9f3a\"], [0.8888888888888888, \"#fdca26\"], [1.0, \"#f0f921\"]]}, \"colorway\": [\"#636efa\", \"#EF553B\", \"#00cc96\", \"#ab63fa\", \"#FFA15A\", \"#19d3f3\", \"#FF6692\", \"#B6E880\", \"#FF97FF\", \"#FECB52\"], \"font\": {\"color\": \"#2a3f5f\"}, \"geo\": {\"bgcolor\": \"white\", \"lakecolor\": \"white\", \"landcolor\": \"#E5ECF6\", \"showlakes\": true, \"showland\": true, \"subunitcolor\": \"white\"}, \"hoverlabel\": {\"align\": \"left\"}, \"hovermode\": \"closest\", \"mapbox\": {\"style\": \"light\"}, \"paper_bgcolor\": \"white\", \"plot_bgcolor\": \"#E5ECF6\", \"polar\": {\"angularaxis\": {\"gridcolor\": \"white\", \"linecolor\": \"white\", \"ticks\": \"\"}, \"bgcolor\": \"#E5ECF6\", \"radialaxis\": {\"gridcolor\": \"white\", \"linecolor\": \"white\", \"ticks\": \"\"}}, \"scene\": {\"xaxis\": {\"backgroundcolor\": \"#E5ECF6\", \"gridcolor\": \"white\", \"gridwidth\": 2, \"linecolor\": \"white\", \"showbackground\": true, \"ticks\": \"\", \"zerolinecolor\": \"white\"}, \"yaxis\": {\"backgroundcolor\": \"#E5ECF6\", \"gridcolor\": \"white\", \"gridwidth\": 2, \"linecolor\": \"white\", \"showbackground\": true, \"ticks\": \"\", \"zerolinecolor\": \"white\"}, \"zaxis\": {\"backgroundcolor\": \"#E5ECF6\", \"gridcolor\": \"white\", \"gridwidth\": 2, \"linecolor\": \"white\", \"showbackground\": true, \"ticks\": \"\", \"zerolinecolor\": \"white\"}}, \"shapedefaults\": {\"line\": {\"color\": \"#2a3f5f\"}}, \"ternary\": {\"aaxis\": {\"gridcolor\": \"white\", \"linecolor\": \"white\", \"ticks\": \"\"}, \"baxis\": {\"gridcolor\": \"white\", \"linecolor\": \"white\", \"ticks\": \"\"}, \"bgcolor\": \"#E5ECF6\", \"caxis\": {\"gridcolor\": \"white\", \"linecolor\": \"white\", \"ticks\": \"\"}}, \"title\": {\"x\": 0.05}, \"xaxis\": {\"automargin\": true, \"gridcolor\": \"white\", \"linecolor\": \"white\", \"ticks\": \"\", \"title\": {\"standoff\": 15}, \"zerolinecolor\": \"white\", \"zerolinewidth\": 2}, \"yaxis\": {\"automargin\": true, \"gridcolor\": \"white\", \"linecolor\": \"white\", \"ticks\": \"\", \"title\": {\"standoff\": 15}, \"zerolinecolor\": \"white\", \"zerolinewidth\": 2}}}, \"title\": {\"text\": \"Centres du groupe des moyennes de la s\\u00e9rie temporelle \", \"x\": 0.5}, \"xaxis\": {\"anchor\": \"y\", \"domain\": [0.0, 1.0]}, \"yaxis\": {\"anchor\": \"x\", \"domain\": [0.0, 1.0]}},\n",
              "                        {\"responsive\": true}\n",
              "                    ).then(function(){\n",
              "                            \n",
              "var gd = document.getElementById('deb41b35-d85a-49b5-9740-edf7b1bfcdad');\n",
              "var x = new MutationObserver(function (mutations, observer) {{\n",
              "        var display = window.getComputedStyle(gd).display;\n",
              "        if (!display || display === 'none') {{\n",
              "            console.log([gd, 'removed!']);\n",
              "            Plotly.purge(gd);\n",
              "            observer.disconnect();\n",
              "        }}\n",
              "}});\n",
              "\n",
              "// Listen for the removal of the full notebook cells\n",
              "var notebookContainer = gd.closest('#notebook-container');\n",
              "if (notebookContainer) {{\n",
              "    x.observe(notebookContainer, {childList: true});\n",
              "}}\n",
              "\n",
              "// Listen for the clearing of the current output cell\n",
              "var outputEl = gd.closest('.output');\n",
              "if (outputEl) {{\n",
              "    x.observe(outputEl, {childList: true});\n",
              "}}\n",
              "\n",
              "                        })\n",
              "                };\n",
              "                \n",
              "            </script>\n",
              "        </div>\n",
              "</body>\n",
              "</html>"
            ]
          },
          "metadata": {}
        }
      ],
      "source": [
        "\n",
        "i_obs = 0\n",
        "\n",
        "fig = make_subplots(rows=1, cols=1)\n",
        "\n",
        "fig.append_trace(\n",
        "  go.Scatter(y=df_avg.iloc[i_obs, :],\n",
        "              x=np.arange(0, 2.56, 0.02)),\n",
        "  row=1,\n",
        "  col=1\n",
        ")\n",
        "\n",
        "fig.append_trace(\n",
        "  go.Scatter(y=pol_estimations[i_obs],\n",
        "              x=np.arange(0, 2.56, 0.02)),\n",
        "  row=1,\n",
        "  col=1\n",
        ")\n",
        "\n",
        "fig.update_layout(height= 700, title_text=\"Centres du groupe des moyennes de la série temporelle \", title_x=0.5)\n",
        "fig.show()"
      ]
    },
    {
      "cell_type": "code",
      "execution_count": null,
      "metadata": {
        "id": "WI1BTPu0-WDF"
      },
      "outputs": [],
      "source": [
        "poly_coeffs = df_avg_poly.map(lambda poly1d: poly1d.c)\n",
        "poly_coeffs = np.vstack(poly_coeffs.to_numpy())"
      ]
    },
    {
      "cell_type": "code",
      "execution_count": null,
      "metadata": {
        "id": "IG42vf-03-sh"
      },
      "outputs": [],
      "source": [
        "kmeans = KMeans(k)\n",
        "kmeans.fit(poly_coeffs)\n",
        "predpoly_labels = kmeans.labels_"
      ]
    },
    {
      "cell_type": "code",
      "execution_count": null,
      "metadata": {
        "colab": {
          "base_uri": "https://localhost:8080/"
        },
        "id": "FiyMPXlF-R3H",
        "outputId": "96566426-affc-4e22-9f87-05ac9f999198"
      },
      "outputs": [
        {
          "output_type": "stream",
          "name": "stdout",
          "text": [
            "Cluster Accuracy score = 29.39%\n",
            "NMI Score = 25.17%\n",
            "ARI score = 6.592116285344749%\n"
          ]
        }
      ],
      "source": [
        "test_perf(predpoly_labels)"
      ]
    },
    {
      "cell_type": "markdown",
      "source": [
        "#Résultats"
      ],
      "metadata": {
        "id": "Lcn_GoqZ0Tgf"
      }
    },
    {
      "cell_type": "code",
      "source": [
        "print('##### Résultats de la performance des méthodes de classification direct #####')\n",
        "print('-------------- Times Series KMeans avec distance Euclidienne -------------')\n",
        "test_perf(predtmkm_labels)\n",
        "print('-------------- Times Series KMeans avec distance DTW -------------')\n",
        "test_perf(predtmkm_dtw_labels)\n",
        "print('\\n##### Résultats de la performance des méthodes basées sur l`\\'extraction de caractéristiques #####')\n",
        "print('-------------- Times Series KMeans avec fourier en distance DTW -------------')\n",
        "test_perf(predfourier_labels)\n",
        "print('-------------- Times Series KMeans avec fourier en distance Euclidienne -------------')\n",
        "test_perf(predfourier_euc_labels)\n",
        "print('-------------- Méthode de réduction de la dimension avec Functional PCA -------------')\n",
        "test_perf(predkm_fpca_labels)\n",
        "print('\\n##### Résultats de la performance des méthodes probabilistes #####')\n",
        "print('-------------- Mélange de régréssions polynomiales -------------')\n",
        "\n",
        "test_perf(predpoly_labels)"
      ],
      "metadata": {
        "colab": {
          "base_uri": "https://localhost:8080/"
        },
        "id": "NWHzSUdW0VSZ",
        "outputId": "f1c10ebe-472a-4c0e-898f-cd7f5e514564"
      },
      "execution_count": null,
      "outputs": [
        {
          "output_type": "stream",
          "name": "stdout",
          "text": [
            "##### Résultats de la performance des méthodes de classification direct #####\n",
            "-------------- Times Series KMeans avec distance Euclidienne -------------\n",
            "Cluster Accuracy score = 57.64%\n",
            "NMI Score = 57.97%\n",
            "ARI score = 36.303271877943835%\n",
            "-------------- Times Series KMeans avec distance DTW -------------\n",
            "Cluster Accuracy score = 96.54%\n",
            "NMI Score = 95.19%\n",
            "ARI score = 93.90279510738463%\n",
            "\n",
            "##### Résultats de la performance des méthodes basées sur l`'extraction de caractéristiques #####\n",
            "-------------- Times Series KMeans avec fourier en distance DTW -------------\n",
            "Cluster Accuracy score = 63.11%\n",
            "NMI Score = 69.7%\n",
            "ARI score = 51.31073199977105%\n",
            "-------------- Times Series KMeans avec fourier en distance Euclidienne -------------\n",
            "Cluster Accuracy score = 43.23%\n",
            "NMI Score = 41.83%\n",
            "ARI score = 20.18309383697929%\n",
            "-------------- Méthode de réduction de la dimension avec Functional PCA -------------\n",
            "Cluster Accuracy score = 30.55%\n",
            "NMI Score = 16.07%\n",
            "ARI score = 4.9198510482299165%\n",
            "\n",
            "##### Résultats de la performance des méthodes probabilistes #####\n",
            "-------------- Mélange de régréssions polynomiales -------------\n",
            "Cluster Accuracy score = 29.39%\n",
            "NMI Score = 25.17%\n",
            "ARI score = 6.592116285344749%\n"
          ]
        }
      ]
    },
    {
      "cell_type": "code",
      "source": [],
      "metadata": {
        "id": "2pPYmpJo1f6q"
      },
      "execution_count": null,
      "outputs": []
    }
  ]
}