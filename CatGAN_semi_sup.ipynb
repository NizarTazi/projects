{
  "nbformat": 4,
  "nbformat_minor": 0,
  "metadata": {
    "colab": {
      "provenance": []
    },
    "kernelspec": {
      "name": "python3",
      "display_name": "Python 3"
    },
    "language_info": {
      "name": "python"
    }
  },
  "cells": [
    {
      "cell_type": "code",
      "source": [
        "%matplotlib inline\n",
        "import os, sys\n",
        "sys.path.append(os.getcwd())\n",
        "\n",
        "import time\n",
        "\n",
        "import numpy as np\n",
        "\n",
        "\n",
        "import torch\n",
        "import torch.nn as nn\n",
        "import torchvision\n",
        "import torchvision.datasets as dset\n",
        "import torchvision.transforms as transforms\n",
        "from torch import nn\n",
        "from torch import autograd\n",
        "from torch import optim\n",
        "import argparse\n",
        "import csv\n",
        "\n",
        "\n",
        "import torch\n",
        "import torch.nn as nn\n",
        "from torch.utils.data import TensorDataset, DataLoader, SequentialSampler, Dataset\n",
        "from torch.utils.data.sampler import RandomSampler, SubsetRandomSampler\n",
        "from torch.optim import AdamW, Adam\n",
        "\n",
        "import torchvision\n",
        "from torch.autograd import Variable\n",
        "from torchvision import transforms\n",
        "from torchvision.utils import save_image\n",
        "from torchvision.datasets import MNIST\n",
        "\n",
        "import pandas as pd\n",
        "import numpy as np\n",
        "\n",
        "from sklearn.preprocessing import LabelEncoder\n",
        "from sklearn.model_selection import train_test_split\n",
        "\n",
        "# get_linear_schedule_with_warmup\n",
        "import time\n",
        "import os\n",
        "import re"
      ],
      "metadata": {
        "id": "kdVcv7_rM__1"
      },
      "execution_count": null,
      "outputs": []
    },
    {
      "cell_type": "code",
      "source": [
        "class MNIST_Dataset(Dataset):\n",
        "\n",
        "    def __init__(self, dataset, *args, **kwargs):\n",
        "\n",
        "        super(MNIST_Dataset, self, *args, **kwargs).__init__()\n",
        "        self.dataset=dataset\n",
        "        self.use_label_mask=np.zeros(len(dataset), dtype=bool)\n",
        "\n",
        "    def __getitem__(self, idx):\n",
        "        tmp=self.dataset[idx]\n",
        "        return [*tmp, self.use_label_mask[idx],idx]\n",
        "\n",
        "    def __len__(self):\n",
        "        return len(self.dataset)"
      ],
      "metadata": {
        "id": "b5_KkXltNKpn"
      },
      "execution_count": null,
      "outputs": []
    },
    {
      "cell_type": "code",
      "source": [
        "def choose_label_rand(dataset, nb_label, nb_class, train_indices):\n",
        "\n",
        "    idx_label=[]\n",
        "    nb_label_each_class=nb_label//nb_class\n",
        "\n",
        "    early_stop=False\n",
        "\n",
        "    if nb_label_each_class==0:\n",
        "        print(\"The number of classes superior the number of desired labeled data.\")\n",
        "        print(\"This mean that some class(es) would not have example !\")\n",
        "        nb_label_each_class=1\n",
        "        early_stop=True\n",
        "\n",
        "    for i in range(nb_class):\n",
        "        print(f\"Choosing Random index for the class {i}\")\n",
        "        tmp=iter(dataset)\n",
        "        idx_class=[datapoint[3] for datapoint in tmp if datapoint[1]==i and datapoint[3] in train_indices]\n",
        "        idx_label.extend(np.random.choice(idx_class, nb_label_each_class, replace=False))\n",
        "        if early_stop and i+1 == nb_label:\n",
        "            break\n",
        "\n",
        "    return idx_label"
      ],
      "metadata": {
        "id": "tOy58siXNOPP"
      },
      "execution_count": null,
      "outputs": []
    },
    {
      "cell_type": "code",
      "source": [
        "def evaluate(target, predicted):\n",
        "    true_label_mask = [1 if (np.argmax(x)-target[i]) ==\n",
        "                       0 else 0 for i, x in enumerate(predicted)]\n",
        "    nb_prediction = len(true_label_mask)\n",
        "    true_prediction = sum(true_label_mask)\n",
        "    false_prediction = nb_prediction-true_prediction\n",
        "    accuracy = true_prediction/nb_prediction\n",
        "    return{\n",
        "        \"accuracy\": accuracy,\n",
        "        \"nb exemple\": len(target),\n",
        "        \"true_prediction\": true_prediction,\n",
        "        \"false_prediction\": false_prediction,\n",
        "    }"
      ],
      "metadata": {
        "id": "XCJGo2VoNQQC"
      },
      "execution_count": null,
      "outputs": []
    },
    {
      "cell_type": "code",
      "source": [
        "def train_loop_fun1(data_loader, discriminator, generator, optimizer_G, optimizer_D, latent_size, batch_size, device, λ=1, idx_label=None):\n",
        "    discriminator.train()\n",
        "    generator.train()\n",
        "    t0 = time.time()\n",
        "\n",
        "    losses_G = []\n",
        "    losses_D = []\n",
        "\n",
        "    conditional_entropies_real=[]\n",
        "    marginal_entropies_real=[]\n",
        "    cross_entropies=[]\n",
        "    conditional_entropies_fake=[]\n",
        "    marginal_entropies_fake=[]\n",
        "\n",
        "    for batch_idx, (data, targets, use_label, data_idx) in enumerate(data_loader):\n",
        "\n",
        "\n",
        "        #         batch_idx_label=[i for i, datapoint_idx in enumerate(data_idx) if datapoint_idx in idx_label]\n",
        "        #         data=torch.flatten(data, start_dim=1)\n",
        "\n",
        "\n",
        "\n",
        "#         * Updating the Discriminator *\n",
        "\n",
        "\n",
        "        # freeze the generator and update the Discriminator\n",
        "        for p in discriminator.parameters():\n",
        "            p.requires_grad = True\n",
        "        for p in generator.parameters():\n",
        "            p.requires_grad = False\n",
        "\n",
        "        discriminator.zero_grad()\n",
        "\n",
        "\n",
        "#         train with real data\n",
        "\n",
        "\n",
        "        # unsupervised\n",
        "\n",
        "        y_real = discriminator(data)\n",
        "        # calcul of the entropy\n",
        "        # we minimize the entropy so the Discriminator minimize uncertainty\n",
        "        conditional_entropy_real = conditional_entropy(y_real, batch_size)\n",
        "\n",
        "        # maximize marginalized entropy over real samples to ensure equal repartition of classes along the data\n",
        "        marginal_entropy_real = marginal_entropy(y_real)\n",
        "\n",
        "\n",
        "        # supervised\n",
        "        cross_entropy=torch.tensor(0)\n",
        "        idx_label=torch.where(use_label)[0]\n",
        "        if len(idx_label)>0:\n",
        "            cross_entropy=cross_entropy_fun(targets[idx_label], y_real[idx_label])\n",
        "\n",
        "\n",
        "#         train with fake data\n",
        "\n",
        "        #uniform distribution sampling\n",
        "        z = torch.randn(batch_size, latent_size, 1, 1).to(device=device)\n",
        "        fake_images = generator(z)\n",
        "        y_fake = discriminator(fake_images)\n",
        "\n",
        "        conditional_entropy_fake = conditional_entropy(y_fake, batch_size)#maximize uncertainty\n",
        "\n",
        "        loss_D = conditional_entropy_real - marginal_entropy_real - conditional_entropy_fake + (λ*cross_entropy)\n",
        "        loss_D.backward(retain_graph=True)\n",
        "        optimizer_D.step()\n",
        "\n",
        "\n",
        "\n",
        "#         * Updating the Generator *\n",
        "\n",
        "\n",
        "        # freeze the generator and update the Discriminator\n",
        "        for p in discriminator.parameters():\n",
        "            p.requires_grad = False\n",
        "        for p in generator.parameters():\n",
        "            p.requires_grad = True\n",
        "        generator.zero_grad()\n",
        "\n",
        "        marginal_entropy_fake = marginal_entropy(y_fake)#maximize uncertainty\n",
        "\n",
        "        loss_G = conditional_entropy_fake-marginal_entropy_fake\n",
        "\n",
        "        loss_G.backward(retain_graph=True)\n",
        "        optimizer_G.step()\n",
        "\n",
        "        losses_G.append(loss_G.item())\n",
        "        losses_D.append(loss_D.item())\n",
        "\n",
        "        conditional_entropies_real.append(conditional_entropy_real.item())\n",
        "        marginal_entropies_real.append(marginal_entropy_real.item())\n",
        "        cross_entropies.append(cross_entropy.item())\n",
        "        conditional_entropies_fake.append(conditional_entropy_real.item())\n",
        "        marginal_entropies_fake.append(marginal_entropy_fake.item())\n",
        "\n",
        "        retrieve_every=150\n",
        "        if batch_idx % retrieve_every == 0:\n",
        "            print(\n",
        "                f\"___ batch index = {batch_idx} / {len(data_loader)} ({100*batch_idx / len(data_loader):.2f}%), time = {time.time()-t0:.2f} secondes ___\")\n",
        "            print(\n",
        "                f\"\\tDiscriminator loss = {np.mean(losses_D[-retrieve_every:]):.2f}, H_x[p(y|D)] : {np.mean(marginal_entropies_real[-retrieve_every:]):.2f}, E[H[p(y|x,D)]] : {np.mean(conditional_entropies_real[-retrieve_every:]):.2f}, λE[CE[y,p(y|x,D)]]:{λ*np.mean(conditional_entropies_fake[-retrieve_every:]):.2f}\")\n",
        "            print(\n",
        "                f\"\\tGenerator loss = {np.mean(losses_G[-retrieve_every:]):.2f}, H_G[p(y|D)] : {np.mean(marginal_entropies_fake[-retrieve_every:]):.2f}, E[H[p(y|G(z),D)]]: {np.mean(conditional_entropies_fake[-retrieve_every:]):.2f}\")\n",
        "            t0 = time.time()\n",
        "    return losses_G, losses_D, conditional_entropies_real, marginal_entropies_real, cross_entropies, conditional_entropies_fake, marginal_entropies_fake"
      ],
      "metadata": {
        "id": "kiWhZDTENSR2"
      },
      "execution_count": null,
      "outputs": []
    },
    {
      "cell_type": "code",
      "source": [
        "def eval_loop_fun1(data_loader, discriminator, generator, latent_size, batch_size, device, λ=1, idx_label=None):\n",
        "    discriminator.eval()\n",
        "    generator.eval()\n",
        "    fin_targets = []\n",
        "    fin_outputs = []\n",
        "\n",
        "    losses_D = []\n",
        "    losses_G = []\n",
        "\n",
        "    conditional_entropies_real=[]\n",
        "    marginal_entropies_real=[]\n",
        "    cross_entropies=[]\n",
        "    conditional_entropies_fake=[]\n",
        "    marginal_entropies_fake=[]\n",
        "\n",
        "    for batch_idx, (data, targets, use_label, data_idx) in enumerate(data_loader):\n",
        "\n",
        "\n",
        "        with torch.no_grad():\n",
        "\n",
        "#             * loss of the Discriminator *\n",
        "\n",
        "            # unsupervised\n",
        "\n",
        "            y_real = discriminator(data)\n",
        "            # calcul of the entropy\n",
        "            # we minimize the entropy so the Discriminator minimize uncertainty\n",
        "            conditional_entropy_real = conditional_entropy(y_real, batch_size)\n",
        "\n",
        "            # maximize marginalized entropy over real samples to ensure equal repartition of classes along the data\n",
        "            marginal_entropy_real = marginal_entropy(y_real)\n",
        "\n",
        "\n",
        "            # supervised\n",
        "            cross_entropy=torch.tensor(0)\n",
        "            idx_label=torch.where(use_label)[0]\n",
        "            if len(idx_label)>0:\n",
        "                cross_entropy=cross_entropy_fun(targets[idx_label], y_real[idx_label])\n",
        "\n",
        "\n",
        "#             train with fake data\n",
        "\n",
        "            #uniform distribution sampling\n",
        "            z = torch.randn(batch_size,latent_size, 1, 1).to(device=device)\n",
        "            fake_images = generator(z)\n",
        "            y_fake = discriminator(fake_images)\n",
        "\n",
        "            conditional_entropy_fake = conditional_entropy(y_fake, batch_size)#maximize uncertainty\n",
        "\n",
        "            loss_D = conditional_entropy_real - marginal_entropy_real - conditional_entropy_fake + (λ * cross_entropy)\n",
        "\n",
        "\n",
        "\n",
        "\n",
        "#             * loss of the Generator *\n",
        "\n",
        "            marginal_entropy_fake = marginal_entropy(y_fake)#maximize uncertainty\n",
        "\n",
        "            loss_G = conditional_entropy_fake-marginal_entropy_fake\n",
        "\n",
        "        losses_G.append(loss_G.item())\n",
        "        losses_D.append(loss_D.item())\n",
        "\n",
        "        conditional_entropies_real.append(conditional_entropy_real.item())\n",
        "        marginal_entropies_real.append(marginal_entropy_real.item())\n",
        "        cross_entropies.append(cross_entropy.item())\n",
        "        conditional_entropies_fake.append(conditional_entropy_real.item())\n",
        "        marginal_entropies_fake.append(marginal_entropy_fake.item())\n",
        "\n",
        "        fin_targets.append(targets.cpu().detach().numpy())\n",
        "        fin_outputs.append(y_real.cpu().detach().numpy())\n",
        "    return np.concatenate(fin_outputs), np.concatenate(fin_targets), losses_D, losses_G, conditional_entropies_real, marginal_entropies_real, cross_entropies, conditional_entropies_fake, marginal_entropies_fake\n",
        "#     return np.vstack(fin_outputs), np.vstack(fin_targets), losses"
      ],
      "metadata": {
        "id": "ymxzg2xmNYdL"
      },
      "execution_count": null,
      "outputs": []
    },
    {
      "cell_type": "code",
      "source": [
        "class Generator(nn.Module):\n",
        "    def __init__(self, noise_dim=100, dim=64, nb_channel=1):\n",
        "        super(Generator, self).__init__()\n",
        "        self.main = nn.Sequential(\n",
        "                # input is Z, going into a convolution\n",
        "                nn.ConvTranspose2d( noise_dim, dim * 4, 4, 1, 0, bias=False),\n",
        "                nn.BatchNorm2d(dim * 4),\n",
        "                nn.LeakyReLU(0.1, inplace=True),\n",
        "                # state size. (dim*8) x 4 x 4\n",
        "                nn.ConvTranspose2d(dim * 4, dim * 2, 4, 2, 1, bias=False),\n",
        "                nn.BatchNorm2d(dim * 2),\n",
        "                nn.LeakyReLU(0.1, inplace=True),\n",
        "                # state size. (dim*4) x 8 x 8\n",
        "                nn.ConvTranspose2d(dim * 2, dim, 4, 2, 1, bias=False),\n",
        "                nn.BatchNorm2d(dim),\n",
        "                nn.LeakyReLU(0.1, inplace=True),\n",
        "                # state size. (dim*2) x 16 x 16\n",
        "                nn.ConvTranspose2d(dim, nb_channel, 4, 2, 3, bias=False),\n",
        "                nn.Tanh()\n",
        "                # state size. (nc) x 32 x 32\n",
        "            )\n",
        "\n",
        "    def forward(self, input):\n",
        "        output = self.main(input)\n",
        "        return output"
      ],
      "metadata": {
        "id": "FqRH5aGGNctv"
      },
      "execution_count": null,
      "outputs": []
    },
    {
      "cell_type": "code",
      "source": [
        "class Discriminator(nn.Module):\n",
        "    def __init__(self, dim=64, nb_channel=1):\n",
        "        super(Discriminator, self).__init__()\n",
        "        main = nn.Sequential(\n",
        "            nn.Conv2d(nb_channel, dim, 4, 2, 3, bias=False),\n",
        "            nn.BatchNorm2d(dim),\n",
        "            nn.LeakyReLU(0.1, inplace=True),\n",
        "            nn.Dropout(0.5),#64x16x16\n",
        "            nn.Conv2d(dim, 2 * dim, 4, 2, 1, bias=False),\n",
        "            nn.BatchNorm2d(2*dim),\n",
        "            nn.LeakyReLU(0.1, inplace=True),\n",
        "            nn.Dropout(0.5),#128x8x8\n",
        "            nn.Conv2d(2 * dim, 4 * dim, 4, 2, 1, bias=False),\n",
        "            nn.BatchNorm2d(4*dim),\n",
        "            nn.LeakyReLU(0.1, inplace=True),\n",
        "            nn.Dropout(0.5),#256x4x4\n",
        "            nn.Conv2d(4*dim, 4*dim, 4),\n",
        "            nn.BatchNorm2d(4*dim),\n",
        "            nn.LeakyReLU(0.1, inplace=True),\n",
        "            nn.Dropout(0.5),#256x1x1\n",
        "            nn.Conv2d(4*dim, 10, 1)\n",
        "        )\n",
        "\n",
        "        self.main = main\n",
        "        self.softmax = nn.Softmax(dim=1)\n",
        "\n",
        "    def forward(self, input):\n",
        "        output = self.main(input)\n",
        "        output = output.view(-1, 10)\n",
        "        output = self.softmax(output)\n",
        "        return output"
      ],
      "metadata": {
        "id": "kRCVE0XpNfKf"
      },
      "execution_count": null,
      "outputs": []
    },
    {
      "cell_type": "code",
      "source": [
        "# marginalized entropy\n",
        "def marginal_entropy(y):\n",
        "    y1 = y.mean(0)\n",
        "    y2 = -torch.sum(y1*torch.log(y1+ 1e-7))\n",
        "    return y2\n",
        "\n",
        "# conditional entropy\n",
        "def conditional_entropy(y, batch_size):\n",
        "    y1 = -y*torch.log(y + 1e-7)\n",
        "    y2 = 1.0/batch_size*y1.sum()\n",
        "    return y2\n",
        "\n",
        "def cross_entropy_fun(targets, predicted):\n",
        "    loss = nn.CrossEntropyLoss()\n",
        "    return loss(predicted, targets)"
      ],
      "metadata": {
        "id": "03qX0ljvNhvZ"
      },
      "execution_count": null,
      "outputs": []
    },
    {
      "cell_type": "markdown",
      "source": [
        "CATGAN"
      ],
      "metadata": {
        "id": "o5e5Wq-9NkWp"
      }
    },
    {
      "cell_type": "code",
      "source": [
        "torch.__version__"
      ],
      "metadata": {
        "colab": {
          "base_uri": "https://localhost:8080/",
          "height": 35
        },
        "id": "m8kJjhJfNrX3",
        "outputId": "43cd6dd7-71da-4bd5-e9d4-8c8363437a3d"
      },
      "execution_count": null,
      "outputs": [
        {
          "output_type": "execute_result",
          "data": {
            "application/vnd.google.colaboratory.intrinsic+json": {
              "type": "string"
            },
            "text/plain": [
              "'1.2.0'"
            ]
          },
          "metadata": {},
          "execution_count": 10
        }
      ]
    },
    {
      "cell_type": "code",
      "source": [
        "#!pip install torch==1.2.0 torchvision==0.4.0"
      ],
      "metadata": {
        "id": "475yvgQCOvuv"
      },
      "execution_count": null,
      "outputs": []
    },
    {
      "cell_type": "code",
      "source": [
        "TRAIN_BATCH_SIZE=10\n",
        "EPOCH=25\n",
        "validation_split = .2\n",
        "shuffle_dataset = True\n",
        "random_seed= 42\n",
        "device=\"cpu\"\n",
        "lr=3e-5#1e-3\n",
        "nb_training_label=100\n",
        "nb_class=10\n",
        "latent_size=100\n",
        "λ=3\n",
        "layer_dim=[784,1000,500,250,250,250,10]\n",
        "learning_rate = 1e-3\n",
        "\n",
        "img_transform = transforms.Compose([\n",
        "    transforms.ToTensor(),\n",
        "    transforms.Normalize((0.5,), (0.5,))\n",
        "])\n",
        "\n",
        "print('Loading MNIST Dataset...')\n",
        "\n",
        "dataset = MNIST('./data', transform=img_transform,train=True, download=True)\n",
        "mnist_dataset=MNIST_Dataset(dataset)\n",
        "\n",
        "#train_size = int(0.8 * len(dataset))\n",
        "#test_size = len(dataset) - train_size\n",
        "#train_dataset, test_dataset = random_split(dataset, [train_size, test_size])\n",
        "\n",
        "# Creating data indices for training and validation splits:\n",
        "dataset_size = len(dataset)\n",
        "indices = list(range(dataset_size))\n",
        "split = int(np.floor(validation_split * dataset_size))\n",
        "if shuffle_dataset :\n",
        "    np.random.seed(random_seed)\n",
        "    np.random.shuffle(indices)\n",
        "train_indices, val_indices = indices[split:], indices[:split]\n",
        "\n",
        "idx_label=choose_label_rand(mnist_dataset, nb_training_label, nb_class, train_indices)\n",
        "mnist_dataset.use_label_mask[idx_label]=True\n",
        "\n",
        "# Creating PT data samplers and loaders:\n",
        "train_sampler = SubsetRandomSampler(train_indices)\n",
        "valid_sampler = SubsetRandomSampler(val_indices)\n",
        "\n",
        "train_data_loader=DataLoader(\n",
        "    mnist_dataset,\n",
        "    batch_size=TRAIN_BATCH_SIZE,\n",
        "    sampler=train_sampler)\n",
        "\n",
        "valid_data_loader=DataLoader(\n",
        "    mnist_dataset,\n",
        "    batch_size=TRAIN_BATCH_SIZE,\n",
        "    sampler=valid_sampler)\n",
        "\n",
        "\n",
        "num_training_steps=int(len(dataset) / TRAIN_BATCH_SIZE * EPOCH)\n",
        "\n",
        "discriminator=Discriminator()\n",
        "generator=Generator()\n",
        "optimizer_G=AdamW(generator.parameters(), lr=lr)\n",
        "optimizer_D=AdamW(discriminator.parameters(), lr=lr)\n",
        "# optimizer=Adam(model.parameters(), lr=lr, weight_decay=1e-5)\n",
        "# scheduler = get_linear_schedule_with_warmup(optimizer,\n",
        "#                                         num_warmup_steps = 0,\n",
        "#                                         num_training_steps = num_training_steps)\n",
        "\n",
        "val_losses_G=[]\n",
        "val_losses_D=[]\n",
        "batches_losses_D=[]\n",
        "batches_losses_G=[]\n",
        "val_acc=[]\n",
        "\n",
        "conditional_entropies_real=[]\n",
        "marginal_entropies_real=[]\n",
        "cross_entropies=[]\n",
        "conditional_entropies_fake=[]\n",
        "marginal_entropies_fake=[]\n",
        "\n",
        "val_conditional_entropies_real=[]\n",
        "val_marginal_entropies_real=[]\n",
        "val_cross_entropies=[]\n",
        "val_conditional_entropies_fake=[]\n",
        "val_marginal_entropies_fake=[]\n",
        "\n",
        "\n",
        "for epoch in range(EPOCH):\n",
        "    t0 = time.time()\n",
        "    print(f\"\\n=============== EPOCH {epoch+1} / {EPOCH} ===============\\n\")\n",
        "    batches_losses_tmp_G, batches_losses_tmp_D, conditional_entropies_real_tmp, marginal_entropies_real_tmp, cross_entropies_tmp, conditional_entropies_fake_tmp, marginal_entropies_fake_tmp=train_loop_fun1(train_data_loader, discriminator, generator, optimizer_G, optimizer_D, latent_size, TRAIN_BATCH_SIZE, device, λ)\n",
        "    epoch_loss_D=np.mean(batches_losses_tmp_D)\n",
        "    epoch_loss_G=np.mean(batches_losses_tmp_G)\n",
        "    print(f\"\\n*** avg_Generator_loss : {epoch_loss_G:.2f}, avg_Discriminator_loss : {epoch_loss_D:.2f}, time : ~{(time.time()-t0)//60} min ({time.time()-t0:.2f} sec) ***\\n\")\n",
        "    t1=time.time()\n",
        "    output, target, val_losses_tmp_D, val_losses_tmp_G, val_conditional_entropies_real_tmp, val_marginal_entropies_real_tmp, val_cross_entropies_tmp, val_conditional_entropies_fake_tmp, val_marginal_entropies_fake_tmp=eval_loop_fun1(valid_data_loader, discriminator, generator, latent_size, TRAIN_BATCH_SIZE, device, λ)\n",
        "    print(f\"==> evaluation : avg_Generator_loss = {np.mean(val_losses_tmp_G):.2f}, avg_Discriminator_loss = {np.mean(val_losses_tmp_D):.2f}, time : {time.time()-t1:.2f} sec\\n\")\n",
        "    tmp_evaluate=evaluate(target.reshape(-1), output)\n",
        "    print(f\"=====>\\t{tmp_evaluate}\")\n",
        "    val_acc.append(tmp_evaluate['accuracy'])\n",
        "    val_losses_D.append(val_losses_tmp_D)\n",
        "    val_losses_G.append(val_losses_tmp_G)\n",
        "    batches_losses_D.append(batches_losses_tmp_D)\n",
        "    batches_losses_G.append(batches_losses_tmp_G)\n",
        "\n",
        "    conditional_entropies_real.append(conditional_entropies_real_tmp)\n",
        "    marginal_entropies_real.append(marginal_entropies_real_tmp)\n",
        "    cross_entropies.append(cross_entropies_tmp)\n",
        "    conditional_entropies_fake.append(conditional_entropies_fake_tmp)\n",
        "    marginal_entropies_fake.append(marginal_entropies_fake_tmp)\n",
        "\n",
        "    val_conditional_entropies_real.append(val_conditional_entropies_real_tmp)\n",
        "    val_marginal_entropies_real.append(val_marginal_entropies_real_tmp)\n",
        "    val_cross_entropies.append(val_cross_entropies_tmp)\n",
        "    val_conditional_entropies_fake.append(val_conditional_entropies_fake_tmp)\n",
        "    val_marginal_entropies_fake.append(val_marginal_entropies_fake_tmp)\n",
        "\n",
        "    print(f\"\\t§§ CatGAN model has been saved §§\")\n",
        "   # torch.save(discriminator, f\"mnist/CatGAN/discriminator/CatGAN_discriminator_model_epoch{epoch+1}.pt\")\n",
        "   # torch.save(generator, f\"mnist/CatGAN/generator/CatGAN_generator_model_epoch{epoch+1}.pt\")"
      ],
      "metadata": {
        "id": "h8VWUvkpNlm5"
      },
      "execution_count": null,
      "outputs": []
    },
    {
      "cell_type": "code",
      "source": [
        "pd.DataFrame(np.array([[np.mean(x) for x in batches_losses_D], [np.mean(x) for x in batches_losses_G], [np.mean(x) for x in val_losses_D], [np.mean(x) for x in val_losses_G]]).T,\n",
        "                   columns=['Discriminator_train', 'Generator_train', 'Discriminator_val', 'Generator_val']).plot(title=\"loss\")"
      ],
      "metadata": {
        "colab": {
          "base_uri": "https://localhost:8080/",
          "height": 298
        },
        "id": "23wCUdBXtNX4",
        "outputId": "f8b19980-d77d-4f8e-bd37-dbac49dd1ae5"
      },
      "execution_count": null,
      "outputs": [
        {
          "output_type": "execute_result",
          "data": {
            "text/plain": [
              "<matplotlib.axes._subplots.AxesSubplot at 0x7f82a4b10a10>"
            ]
          },
          "metadata": {},
          "execution_count": 13
        },
        {
          "output_type": "display_data",
          "data": {
            "image/png": "[encoded data removed]",
            "text/plain": [
              "<Figure size 432x288 with 1 Axes>"
            ]
          },
          "metadata": {
            "needs_background": "light"
          }
        }
      ]
    },
    {
      "cell_type": "code",
      "source": [
        "pd.DataFrame(np.array([[np.mean(x) for x in conditional_entropies_real], [np.mean(x) for x in marginal_entropies_real], [np.mean(x) for x in cross_entropies], [np.mean(x) for x in conditional_entropies_fake], [np.mean(x) for x in marginal_entropies_fake]]).T,\n",
        "                   columns=['conditional_entropies_real', 'marginal_entropies_real', 'cross_entropies', 'conditional_entropies_fake', 'marginal_entropies_fake']).plot(title=\"loss\")"
      ],
      "metadata": {
        "colab": {
          "base_uri": "https://localhost:8080/",
          "height": 298
        },
        "id": "WzoHDO6doccY",
        "outputId": "244050b2-ad75-4c0b-c471-05c39d4cdaf6"
      },
      "execution_count": null,
      "outputs": [
        {
          "output_type": "execute_result",
          "data": {
            "text/plain": [
              "<matplotlib.axes._subplots.AxesSubplot at 0x7f82a4a2ed50>"
            ]
          },
          "metadata": {},
          "execution_count": 14
        },
        {
          "output_type": "display_data",
          "data": {
            "image/png": "[encoded data removed]",
            "text/plain": [
              "<Figure size 432x288 with 1 Axes>"
            ]
          },
          "metadata": {
            "needs_background": "light"
          }
        }
      ]
    },
    {
      "cell_type": "code",
      "source": [
        "discriminator"
      ],
      "metadata": {
        "colab": {
          "base_uri": "https://localhost:8080/"
        },
        "id": "vPJvp49btJCF",
        "outputId": "2705d9a6-02b2-46bc-fb3c-29109601a8a8"
      },
      "execution_count": null,
      "outputs": [
        {
          "output_type": "execute_result",
          "data": {
            "text/plain": [
              "Discriminator(\n",
              "  (main): Sequential(\n",
              "    (0): Conv2d(1, 64, kernel_size=(4, 4), stride=(2, 2), padding=(3, 3), bias=False)\n",
              "    (1): BatchNorm2d(64, eps=1e-05, momentum=0.1, affine=True, track_running_stats=True)\n",
              "    (2): LeakyReLU(negative_slope=0.1, inplace=True)\n",
              "    (3): Dropout(p=0.5, inplace=False)\n",
              "    (4): Conv2d(64, 128, kernel_size=(4, 4), stride=(2, 2), padding=(1, 1), bias=False)\n",
              "    (5): BatchNorm2d(128, eps=1e-05, momentum=0.1, affine=True, track_running_stats=True)\n",
              "    (6): LeakyReLU(negative_slope=0.1, inplace=True)\n",
              "    (7): Dropout(p=0.5, inplace=False)\n",
              "    (8): Conv2d(128, 256, kernel_size=(4, 4), stride=(2, 2), padding=(1, 1), bias=False)\n",
              "    (9): BatchNorm2d(256, eps=1e-05, momentum=0.1, affine=True, track_running_stats=True)\n",
              "    (10): LeakyReLU(negative_slope=0.1, inplace=True)\n",
              "    (11): Dropout(p=0.5, inplace=False)\n",
              "    (12): Conv2d(256, 256, kernel_size=(4, 4), stride=(1, 1))\n",
              "    (13): BatchNorm2d(256, eps=1e-05, momentum=0.1, affine=True, track_running_stats=True)\n",
              "    (14): LeakyReLU(negative_slope=0.1, inplace=True)\n",
              "    (15): Dropout(p=0.5, inplace=False)\n",
              "    (16): Conv2d(256, 10, kernel_size=(1, 1), stride=(1, 1))\n",
              "  )\n",
              "  (softmax): Softmax(dim=1)\n",
              ")"
            ]
          },
          "metadata": {},
          "execution_count": 17
        }
      ]
    },
    {
      "cell_type": "code",
      "source": [
        "generator"
      ],
      "metadata": {
        "colab": {
          "base_uri": "https://localhost:8080/"
        },
        "id": "goAfsnodwlWr",
        "outputId": "710558c1-9f1c-43bf-b2f0-893e7502f4bb"
      },
      "execution_count": null,
      "outputs": [
        {
          "output_type": "execute_result",
          "data": {
            "text/plain": [
              "Generator(\n",
              "  (main): Sequential(\n",
              "    (0): ConvTranspose2d(100, 256, kernel_size=(4, 4), stride=(1, 1), bias=False)\n",
              "    (1): BatchNorm2d(256, eps=1e-05, momentum=0.1, affine=True, track_running_stats=True)\n",
              "    (2): LeakyReLU(negative_slope=0.1, inplace=True)\n",
              "    (3): ConvTranspose2d(256, 128, kernel_size=(4, 4), stride=(2, 2), padding=(1, 1), bias=False)\n",
              "    (4): BatchNorm2d(128, eps=1e-05, momentum=0.1, affine=True, track_running_stats=True)\n",
              "    (5): LeakyReLU(negative_slope=0.1, inplace=True)\n",
              "    (6): ConvTranspose2d(128, 64, kernel_size=(4, 4), stride=(2, 2), padding=(1, 1), bias=False)\n",
              "    (7): BatchNorm2d(64, eps=1e-05, momentum=0.1, affine=True, track_running_stats=True)\n",
              "    (8): LeakyReLU(negative_slope=0.1, inplace=True)\n",
              "    (9): ConvTranspose2d(64, 1, kernel_size=(4, 4), stride=(2, 2), padding=(3, 3), bias=False)\n",
              "    (10): Tanh()\n",
              "  )\n",
              ")"
            ]
          },
          "metadata": {},
          "execution_count": 22
        }
      ]
    }
  ]
}